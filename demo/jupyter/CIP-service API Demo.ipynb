{
 "cells": [
  {
   "cell_type": "markdown",
   "id": "dd764bbf",
   "metadata": {
    "slideshow": {
     "slide_type": "slide"
    }
   },
   "source": [
    "# CIP as a Service Data Challenge Demo"
   ]
  },
  {
   "cell_type": "markdown",
   "id": "798c0061",
   "metadata": {
    "slideshow": {
     "slide_type": "subslide"
    }
   },
   "source": [
    "This Jupyter notebook will:\n",
    "- Pull information about the state and tribe codes available from a Domains API\n",
    "- Provide widgets to enter selections for the Indexing API\n",
    "- Call the Indexing API\n",
    "- Map the results"
   ]
  },
  {
   "cell_type": "code",
   "execution_count": 1,
   "id": "3657d624",
   "metadata": {
    "slideshow": {
     "slide_type": "slide"
    }
   },
   "outputs": [],
   "source": [
    "# First, some imports\n",
    "import requests\n",
    "import json\n",
    "import ipywidgets as widgets\n",
    "from ipyleaflet import Map, basemaps, basemap_to_tiles, DrawControl\n",
    "import geopandas"
   ]
  },
  {
   "cell_type": "code",
   "execution_count": 4,
   "id": "cbbb44e0",
   "metadata": {
    "slideshow": {
     "slide_type": "subslide"
    }
   },
   "outputs": [
    {
     "name": "stderr",
     "output_type": "stream",
     "text": [
      "C:\\Users\\EKeith\\AppData\\Local\\Programs\\Python\\Python310\\lib\\site-packages\\urllib3\\connectionpool.py:1045: InsecureRequestWarning: Unverified HTTPS request is being made to host 'cip-api.dmap-stage.aws.epa.gov'. Adding certificate verification is strongly advised. See: https://urllib3.readthedocs.io/en/1.26.x/advanced-usage.html#ssl-warnings\n",
      "  warnings.warn(\n"
     ]
    },
    {
     "data": {
      "text/plain": [
       "<Response [200]>"
      ]
     },
     "execution_count": 4,
     "metadata": {},
     "output_type": "execute_result"
    }
   ],
   "source": [
    "# Call the Domains API\n",
    "base_url = \"https://cip-api.dmap-stage.aws.epa.gov/rpc/\"\n",
    "req_domains = requests.get(base_url + \"cipsrv_domains\", verify = False)\n",
    "req_domains"
   ]
  },
  {
   "cell_type": "code",
   "execution_count": 10,
   "id": "82f152b3",
   "metadata": {},
   "outputs": [
    {
     "data": {
      "text/plain": [
       "{'states': [{'name': 'Alaska', 'geoid': '02', 'stusps': 'AK'},\n",
       "  {'name': 'Alabama', 'geoid': '01', 'stusps': 'AL'},\n",
       "  {'name': 'Arkansas', 'geoid': '05', 'stusps': 'AR'}],\n",
       " 'tribes': [{'has_trust_lands': True,\n",
       "   'aiannha_aiannhns': '01934337',\n",
       "   'aiannha_namelsad': 'Acoma Pueblo',\n",
       "   'aiannha_geoid_stem': '0010',\n",
       "   'has_reservation_lands': True},\n",
       "  {'has_trust_lands': True,\n",
       "   'aiannha_aiannhns': '01934324',\n",
       "   'aiannha_namelsad': 'Agua Caliente Indian Reservation',\n",
       "   'aiannha_geoid_stem': '0020',\n",
       "   'has_reservation_lands': True},\n",
       "  {'has_trust_lands': True,\n",
       "   'aiannha_aiannhns': '01350923',\n",
       "   'aiannha_namelsad': 'Alabama-Coushatta Reservation',\n",
       "   'aiannha_geoid_stem': '0050',\n",
       "   'has_reservation_lands': True}]}"
      ]
     },
     "execution_count": 10,
     "metadata": {},
     "output_type": "execute_result"
    }
   ],
   "source": [
    "# Look at a sample of the data in the response\n",
    "check = req_domains.json()\n",
    "for key, value in check.items():\n",
    "    if isinstance(value, list) and len(value) > 3:\n",
    "        check[key] = value[:3]\n",
    "\n",
    "check"
   ]
  },
  {
   "cell_type": "code",
   "execution_count": 23,
   "id": "dd3ff579",
   "metadata": {
    "slideshow": {
     "slide_type": "slide"
    }
   },
   "outputs": [],
   "source": [
    "### Defines but does not yet display a map\n",
    "map_input = Map(basemap=basemap_to_tiles(basemaps.OpenTopoMap), center=(38.8, -77.0), zoom=12)\n",
    "\n",
    "draw_control = DrawControl()\n",
    "draw_control.polyline =  {\n",
    "    \"shapeOptions\": {\n",
    "        \"color\": \"#6bc2e5\",\n",
    "        \"weight\": 8,\n",
    "        \"opacity\": 1.0\n",
    "    }\n",
    "}\n",
    "draw_control.polygon = {\n",
    "    \"shapeOptions\": {\n",
    "        \"fillColor\": \"#6be5c3\",\n",
    "        \"color\": \"#6be5c3\",\n",
    "        \"fillOpacity\": 0.6\n",
    "    },\n",
    "    \"drawError\": {\n",
    "        \"color\": \"#dd253b\",\n",
    "        \"message\": \"Please correct\"\n",
    "    },\n",
    "    \"allowIntersection\": False\n",
    "}\n",
    "draw_control.circle = {\n",
    "    \"shapeOptions\": {\n",
    "        \"fillColor\": \"#efed69\",\n",
    "        \"color\": \"#efed69\",\n",
    "        \"fillOpacity\": 1.0\n",
    "    }\n",
    "}\n",
    "draw_control.rectangle = {\n",
    "    \"shapeOptions\": {\n",
    "        \"fillColor\": \"#fca45d\",\n",
    "        \"color\": \"#fca45d\",\n",
    "        \"fillOpacity\": 1.0\n",
    "    }\n",
    "}\n",
    "\n",
    "feature_collection = {\n",
    "    'type': 'FeatureCollection',\n",
    "    'features': []\n",
    "}\n",
    "\n",
    "def handle_draw(self, action, geo_json):\n",
    "    \"\"\"Save the GeoJSON when it's drawn on the map\"\"\"\n",
    "    feature_collection['features'].append(geo_json)\n",
    "    \n",
    "draw_control.on_draw(handle_draw)\n",
    "\n",
    "map_input.add_control(draw_control)"
   ]
  },
  {
   "cell_type": "code",
   "execution_count": 22,
   "id": "65138571",
   "metadata": {
    "slideshow": {
     "slide_type": "slide"
    }
   },
   "outputs": [],
   "source": [
    "# Define widgets needed to collect data for API\n",
    "filter_for_widget = widgets.ToggleButtons(\n",
    "    description = \"Filter for\", \n",
    "    options = [(\"States\", \"s\"), (\"Tribes\", \"t\")]\n",
    ")\n",
    "nhd_version_widget = widgets.ToggleButtons(\n",
    "    options = [(\"Medium Res (v2.1)\", \"nhdplus_m\"), (\"High Res\", \"nhdplus_h\")],\n",
    "    description = \"NHDPlus Version\"\n",
    ")\n",
    "state_clip_widget = widgets.Dropdown(\n",
    "    options=[(st[\"name\"], \"USPS:\" + st[\"stusps\"]) \n",
    "             for st in req_domains.json()[\"states\"]],\n",
    "    description='State to clip',\n",
    "    style=dict(description_width='initial'),\n",
    "    layout=dict(visibility=\"visible\")\n",
    ")\n",
    "tribe_clip_widget = widgets.Dropdown(\n",
    "    options=[(tr[\"aiannha_namelsad\"], \"AIANNHNS:\" + tr[\"aiannha_geoid_stem\"]) \n",
    "             for tr in req_domains.json()[\"tribes\"]],\n",
    "    description='Tribe to clip',\n",
    "    style=dict(description_width='initial'),\n",
    "    layout=dict(visibility=\"hidden\")\n",
    ")\n",
    "tribe_clip_type_widget = widgets.ToggleButtons(\n",
    "    options=[\"All\", \"Tribe\", \"Reservation\"],\n",
    "    description='Clip tribe for',\n",
    "    style=dict(description_width='initial'),\n",
    "    layout=dict(visibility=\"hidden\")\n",
    ")\n",
    "clip_when_widget = widgets.ToggleButtons(\n",
    "    options = [(\"Before\", \"BEFORE\"), (\"After\", \"AFTER\")],\n",
    "    description = \"When to clip\"\n",
    ")\n",
    "catchment_filter_widget = widgets.Dropdown(\n",
    "    options = [(st[\"name\"], st[\"stusps\"]) for st in req_domains.json()[\"states\"]],\n",
    "    description = \"Catchment filter\",\n",
    "    style=dict(description_width='initial')\n",
    ")\n",
    "default_point_indexing_method_widget = widgets.ToggleButtons(\n",
    "    options = [(\"Simple\", \"point_simple\")],\n",
    "    description = \"Default point indexing method\",\n",
    "    value = \"point_simple\"\n",
    ")\n",
    "default_line_indexing_method_widget = widgets.ToggleButtons(\n",
    "    options = [(\"Simple\", \"line_simple\"), (\"Level Path\", \"line_levelpath\")],\n",
    "    description = \"Default line indexing method\",\n",
    "    value = \"line_levelpath\"\n",
    ")\n",
    "default_ring_indexing_method_widget = widgets.ToggleButtons(\n",
    "    options = [(\"Simple\", \"area_simple\"), (\"Centroid\", \"area_centroid\"), \n",
    "               (\"Artificial Path\", \"area_artpath\"), (\"Treat rings as lines\", \"treat_as_lines\")],\n",
    "    description = \"Default ring indexing method\",\n",
    "    value = \"area_simple\"\n",
    ")\n",
    "default_area_indexing_method_widget = widgets.ToggleButtons(\n",
    "    options = [(\"Simple\", \"area_simple\"), (\"Centroid\", \"area_centroid\"), \n",
    "               (\"Artificial Path\", \"area_artpath\")],\n",
    "    description = \"Default area indexing method\",\n",
    "    value = \"area_simple\"\n",
    ")\n",
    "default_line_threshold_widget = widgets.IntSlider(\n",
    "    value=10,\n",
    "    min=0,\n",
    "    max=100,\n",
    "    description='Line threshold',\n",
    "    style=dict(description_width='initial')\n",
    ")\n",
    "default_areacat_threshold_widget = widgets.IntSlider(\n",
    "    value=50,\n",
    "    min=0,\n",
    "    max=100,\n",
    "    description='Area Catchment threshold',\n",
    "    style=dict(description_width='initial')\n",
    ")\n",
    "default_areaevt_threshold_widget = widgets.IntSlider(\n",
    "    value=1,\n",
    "    min=0,\n",
    "    max=100,\n",
    "    description='Area Catchment threshold',\n",
    "    style=dict(description_width='initial')\n",
    ")\n",
    "return_indexed_features_widget = widgets.ToggleButton(\n",
    "    value=True,\n",
    "    description='Return indexed features'\n",
    ")\n",
    "return_indexed_collection_widget = widgets.ToggleButton(\n",
    "    value=False,\n",
    "    description='Return indexed collection'\n",
    ")\n",
    "return_catchment_geometry_widget = widgets.ToggleButton(\n",
    "    value=True,\n",
    "    description='Return catchment geometry'\n",
    ")\n",
    "return_flowlines_widget = widgets.ToggleButton(\n",
    "    value=True,\n",
    "    description='Return flowlines'\n",
    ")\n",
    "return_flowline_geometry_widget = widgets.ToggleButton(\n",
    "    value=True,\n",
    "    description='Return flowline geometry'\n",
    ")\n",
    "return_huc12s_widget = widgets.ToggleButton(\n",
    "    value=False,\n",
    "    description='Return HUC12s'\n",
    ")\n",
    "# \"wbd_version\":null\n",
    "\n",
    "def switch_state_tribe(change):\n",
    "    if change.new == \"s\":\n",
    "        state_clip_widget.layout.visibility = \"visible\"\n",
    "        tribe_clip_widget.layout.visibility = \"hidden\"\n",
    "        tribe_clip_type_widget.layout.visibility = \"hidden\"\n",
    "    elif change.new == \"t\":\n",
    "        state_clip_widget.layout.visibility = \"hidden\"\n",
    "        tribe_clip_widget.layout.visibility = \"visible\"\n",
    "        tribe_clip_type_widget.layout.visibility = \"visible\"\n",
    "    else:\n",
    "        state_clip_widget.layout.visibility = \"hidden\"\n",
    "        tribe_clip_widget.layout.visibility = \"hidden\"\n",
    "        tribe_clip_type_widget.layout.visibility = \"hidden\"\n",
    "\n",
    "filter_for_widget.observe(switch_state_tribe, names = \"value\")"
   ]
  },
  {
   "cell_type": "code",
   "execution_count": 24,
   "id": "c90d2f1e",
   "metadata": {
    "scrolled": true,
    "slideshow": {
     "slide_type": "slide"
    }
   },
   "outputs": [
    {
     "data": {
      "application/vnd.jupyter.widget-view+json": {
       "model_id": "7f1e4acf70284a23bc2e76277b180a31",
       "version_major": 2,
       "version_minor": 0
      },
      "text/plain": [
       "Tab(children=(Map(center=[38.8, -77.0], controls=(ZoomControl(options=['position', 'zoom_in_text', 'zoom_in_ti…"
      ]
     },
     "execution_count": 24,
     "metadata": {},
     "output_type": "execute_result"
    }
   ],
   "source": [
    "tab = widgets.Tab()\n",
    "tab_clip = widgets.VBox([nhd_version_widget, filter_for_widget, state_clip_widget, tribe_clip_widget, tribe_clip_type_widget, clip_when_widget])\n",
    "tab_indexing = widgets.VBox([default_point_indexing_method_widget, default_line_indexing_method_widget, default_ring_indexing_method_widget,default_area_indexing_method_widget, default_line_threshold_widget, default_areacat_threshold_widget, default_areaevt_threshold_widget])\n",
    "tab_return = widgets.VBox([return_indexed_features_widget, return_indexed_collection_widget, return_catchment_geometry_widget, return_flowlines_widget, return_flowline_geometry_widget, return_huc12s_widget])\n",
    "tab.children = [map_input, tab_clip, tab_indexing, tab_return]\n",
    "tab.titles = [\"Map\", \"Clipping\", \"Indexing\", \"What to Return\"]\n",
    "tab"
   ]
  },
  {
   "cell_type": "code",
   "execution_count": 25,
   "id": "53b06c3d",
   "metadata": {
    "slideshow": {
     "slide_type": "slide"
    }
   },
   "outputs": [],
   "source": [
    "# Convert widget values to data needed to call API\n",
    "input_data={}\n",
    "input_data[\"geometry\"]=feature_collection\n",
    "input_data[\"nhdplus_version\"] = nhd_version_widget.value\n",
    "if filter_for_widget.value == \"s\":\n",
    "    input_data[\"geometry_clip\"] = state_clip_widget.value\n",
    "    input_data[\"catchment_filter\"] = state_clip_widget.value\n",
    "else:\n",
    "    input_data[\"catchment_filter\"] = \"Tribe\"\n",
    "    if tribe_clip_type_widget == \"All\":\n",
    "        input_data[\"geometry_clip\"] = tribe_clip_widget.value\n",
    "    elif tribe_clip_type_widget.value == \"Tribe\":\n",
    "        input_data[\"geometry_clip\"] = tribe_clip_widget.value + \":T\"\n",
    "    else:\n",
    "        input_data[\"geometry_clip\"] = tribe_clip_widget.value + \":R\"\n",
    "input_data[\"geometry_clip_stage\"] = clip_when_widget.value\n",
    "input_data[\"default_point_indexing_method\"] = default_point_indexing_method_widget.value\n",
    "input_data[\"default_line_indexing_method\"] = default_line_indexing_method_widget.value\n",
    "input_data[\"default_ring_indexing_method\"] = default_ring_indexing_method_widget.value\n",
    "input_data[\"default_area_indexing_method\"] = default_area_indexing_method_widget.value\n",
    "input_data[\"default_line_threshold\"] = default_line_threshold_widget.value\n",
    "input_data[\"default_areacat_threshold\"] = default_areacat_threshold_widget.value\n",
    "input_data[\"default_areaevt_threshold\"] = default_areaevt_threshold_widget.value\n",
    "input_data[\"return_indexed_features\"] = return_indexed_features_widget.value\n",
    "input_data[\"return_indexed_collection\"] = return_indexed_collection_widget.value\n",
    "input_data[\"return_catchment_geometry\"] = return_catchment_geometry_widget.value\n",
    "input_data[\"return_flowlines\"] = return_flowlines_widget.value\n",
    "input_data[\"return_flowline_geometry\"] = return_flowline_geometry_widget.value\n",
    "input_data[\"return_huc12s\"] = return_huc12s_widget.value"
   ]
  },
  {
   "cell_type": "code",
   "execution_count": 26,
   "id": "a05833ce",
   "metadata": {
    "slideshow": {
     "slide_type": "slide"
    }
   },
   "outputs": [
    {
     "name": "stderr",
     "output_type": "stream",
     "text": [
      "C:\\Users\\EKeith\\AppData\\Local\\Programs\\Python\\Python310\\lib\\site-packages\\urllib3\\connectionpool.py:1045: InsecureRequestWarning: Unverified HTTPS request is being made to host 'cip-api.dmap-stage.aws.epa.gov'. Adding certificate verification is strongly advised. See: https://urllib3.readthedocs.io/en/1.26.x/advanced-usage.html#ssl-warnings\n",
      "  warnings.warn(\n"
     ]
    },
    {
     "data": {
      "text/plain": [
       "<Response [200]>"
      ]
     },
     "execution_count": 26,
     "metadata": {},
     "output_type": "execute_result"
    }
   ],
   "source": [
    "req = requests.post(base_url + \"cipsrv_index\", data = json.dumps(input_data), verify = False)\n",
    "req"
   ]
  },
  {
   "cell_type": "code",
   "execution_count": 27,
   "id": "e61d3fa1",
   "metadata": {},
   "outputs": [
    {
     "data": {
      "text/plain": [
       "{'huc12s': None,\n",
       " 'flowlines': {'type': 'FeatureCollection',\n",
       "  'features': [{'type': 'Feature',\n",
       "    'geometry': {'type': 'LineString',\n",
       "     'coordinates': [[-76.309573551, 37.76931072, 0],\n",
       "      [-76.288078519, 37.770420154, 0],\n",
       "      [-76.265296268, 37.733216227, 0],\n",
       "      [-76.258492467, 37.7112284, 0]]},\n",
       "    'properties': {'gnis_id': None,\n",
       "     'fmeasure': 37.1753,\n",
       "     'tmeasure': 100.0,\n",
       "     'gnis_name': None,\n",
       "     'nhdplusid': 10000300147503.0,\n",
       "     'reachcode': '02080102104531'}}]},\n",
       " 'catchments': {'type': 'FeatureCollection',\n",
       "  'features': [{'type': 'Feature',\n",
       "    'geometry': {'type': None},\n",
       "    'properties': {'areasqkm': 66.71189996,\n",
       "     'nhdplusid': 10000300147503,\n",
       "     'xwalk_huc12': '020801010000',\n",
       "     'catchmentstatecode': 'VA'}}]},\n",
       " 'return_code': 0,\n",
       " 'indexed_areas': None,\n",
       " 'indexed_lines': {'type': 'FeatureCollection',\n",
       "  'features': [{'type': 'Feature',\n",
       "    'geometry': {'type': 'LineString',\n",
       "     'coordinates': [[-76.24248, 37.883032],\n",
       "      [-76.313896, 37.757194],\n",
       "      [-76.297415, 37.622439]]},\n",
       "    'properties': {'style': {'fill': False,\n",
       "      'color': '#6bc2e5',\n",
       "      'stroke': True,\n",
       "      'weight': 8,\n",
       "      'opacity': 1,\n",
       "      'clickable': True},\n",
       "     'globalid': '{62706a72-c41a-11ed-b9fc-12a1aff40d95}',\n",
       "     'lengthkm': 30.58846257,\n",
       "     'line_threshold_used': 10,\n",
       "     'indexing_method_used': 'line_levelpath'}}]},\n",
       " 'indexed_points': None,\n",
       " 'status_message': None,\n",
       " 'catchment_count': 1,\n",
       " 'nhdplus_version': 'nhdplus_h',\n",
       " 'indexing_summary': {'input_features': {'area_count': 0,\n",
       "   'line_count': 1,\n",
       "   'point_count': 0}},\n",
       " 'catchment_areasqkm': 66.71189996,\n",
       " 'indexed_collection': None}"
      ]
     },
     "execution_count": 27,
     "metadata": {},
     "output_type": "execute_result"
    }
   ],
   "source": [
    "# Look at a sample of the data in the response\n",
    "check = req.json()\n",
    "for key, value in check.items():\n",
    "    if isinstance(value, list) and len(value) > 3:\n",
    "        check[key] = value[:3]\n",
    "\n",
    "check"
   ]
  },
  {
   "cell_type": "code",
   "execution_count": 28,
   "id": "c82d2647",
   "metadata": {
    "slideshow": {
     "slide_type": "subslide"
    }
   },
   "outputs": [
    {
     "data": {
      "text/html": [
       "<div>\n",
       "<style scoped>\n",
       "    .dataframe tbody tr th:only-of-type {\n",
       "        vertical-align: middle;\n",
       "    }\n",
       "\n",
       "    .dataframe tbody tr th {\n",
       "        vertical-align: top;\n",
       "    }\n",
       "\n",
       "    .dataframe thead th {\n",
       "        text-align: right;\n",
       "    }\n",
       "</style>\n",
       "<table border=\"1\" class=\"dataframe\">\n",
       "  <thead>\n",
       "    <tr style=\"text-align: right;\">\n",
       "      <th></th>\n",
       "      <th>geometry</th>\n",
       "      <th>gnis_id</th>\n",
       "      <th>fmeasure</th>\n",
       "      <th>tmeasure</th>\n",
       "      <th>gnis_name</th>\n",
       "      <th>nhdplusid</th>\n",
       "      <th>reachcode</th>\n",
       "    </tr>\n",
       "  </thead>\n",
       "  <tbody>\n",
       "    <tr>\n",
       "      <th>0</th>\n",
       "      <td>LINESTRING Z (-76.30957 37.76931 0.00000, -76....</td>\n",
       "      <td>None</td>\n",
       "      <td>37.1753</td>\n",
       "      <td>100.0</td>\n",
       "      <td>None</td>\n",
       "      <td>1.000030e+13</td>\n",
       "      <td>02080102104531</td>\n",
       "    </tr>\n",
       "  </tbody>\n",
       "</table>\n",
       "</div>"
      ],
      "text/plain": [
       "                                            geometry gnis_id  fmeasure  \\\n",
       "0  LINESTRING Z (-76.30957 37.76931 0.00000, -76....    None   37.1753   \n",
       "\n",
       "   tmeasure gnis_name     nhdplusid       reachcode  \n",
       "0     100.0      None  1.000030e+13  02080102104531  "
      ]
     },
     "execution_count": 28,
     "metadata": {},
     "output_type": "execute_result"
    }
   ],
   "source": [
    "gdf = geopandas.GeoDataFrame.from_features(req.json()['flowlines']['features'], crs=\"EPSG:4326\")\n",
    "gdf"
   ]
  },
  {
   "cell_type": "code",
   "execution_count": 29,
   "id": "0257c5d9",
   "metadata": {
    "slideshow": {
     "slide_type": "slide"
    }
   },
   "outputs": [
    {
     "data": {
      "text/html": [
       "<div style=\"width:100%;\"><div style=\"position:relative;width:100%;height:0;padding-bottom:60%;\"><span style=\"color:#565656\">Make this Notebook Trusted to load map: File -> Trust Notebook</span><iframe srcdoc=\"&lt;!DOCTYPE html&gt;\n",
       "&lt;html&gt;\n",
       "&lt;head&gt;\n",
       "    \n",
       "    &lt;meta http-equiv=&quot;content-type&quot; content=&quot;text/html; charset=UTF-8&quot; /&gt;\n",
       "    \n",
       "        &lt;script&gt;\n",
       "            L_NO_TOUCH = false;\n",
       "            L_DISABLE_3D = false;\n",
       "        &lt;/script&gt;\n",
       "    \n",
       "    &lt;style&gt;html, body {width: 100%;height: 100%;margin: 0;padding: 0;}&lt;/style&gt;\n",
       "    &lt;style&gt;#map {position:absolute;top:0;bottom:0;right:0;left:0;}&lt;/style&gt;\n",
       "    &lt;script src=&quot;https://cdn.jsdelivr.net/npm/leaflet@1.6.0/dist/leaflet.js&quot;&gt;&lt;/script&gt;\n",
       "    &lt;script src=&quot;https://code.jquery.com/jquery-1.12.4.min.js&quot;&gt;&lt;/script&gt;\n",
       "    &lt;script src=&quot;https://maxcdn.bootstrapcdn.com/bootstrap/3.2.0/js/bootstrap.min.js&quot;&gt;&lt;/script&gt;\n",
       "    &lt;script src=&quot;https://cdnjs.cloudflare.com/ajax/libs/Leaflet.awesome-markers/2.0.2/leaflet.awesome-markers.js&quot;&gt;&lt;/script&gt;\n",
       "    &lt;link rel=&quot;stylesheet&quot; href=&quot;https://cdn.jsdelivr.net/npm/leaflet@1.6.0/dist/leaflet.css&quot;/&gt;\n",
       "    &lt;link rel=&quot;stylesheet&quot; href=&quot;https://maxcdn.bootstrapcdn.com/bootstrap/3.2.0/css/bootstrap.min.css&quot;/&gt;\n",
       "    &lt;link rel=&quot;stylesheet&quot; href=&quot;https://maxcdn.bootstrapcdn.com/bootstrap/3.2.0/css/bootstrap-theme.min.css&quot;/&gt;\n",
       "    &lt;link rel=&quot;stylesheet&quot; href=&quot;https://maxcdn.bootstrapcdn.com/font-awesome/4.6.3/css/font-awesome.min.css&quot;/&gt;\n",
       "    &lt;link rel=&quot;stylesheet&quot; href=&quot;https://cdnjs.cloudflare.com/ajax/libs/Leaflet.awesome-markers/2.0.2/leaflet.awesome-markers.css&quot;/&gt;\n",
       "    &lt;link rel=&quot;stylesheet&quot; href=&quot;https://cdn.jsdelivr.net/gh/python-visualization/folium/folium/templates/leaflet.awesome.rotate.min.css&quot;/&gt;\n",
       "    \n",
       "            &lt;meta name=&quot;viewport&quot; content=&quot;width=device-width,\n",
       "                initial-scale=1.0, maximum-scale=1.0, user-scalable=no&quot; /&gt;\n",
       "            &lt;style&gt;\n",
       "                #map_1ed874beefc9f8d13a6d2cba1c7c4d42 {\n",
       "                    position: relative;\n",
       "                    width: 100.0%;\n",
       "                    height: 100.0%;\n",
       "                    left: 0.0%;\n",
       "                    top: 0.0%;\n",
       "                }\n",
       "            &lt;/style&gt;\n",
       "        \n",
       "    \n",
       "                    &lt;style&gt;\n",
       "                        .foliumtooltip {\n",
       "                            \n",
       "                        }\n",
       "                       .foliumtooltip table{\n",
       "                            margin: auto;\n",
       "                        }\n",
       "                        .foliumtooltip tr{\n",
       "                            text-align: left;\n",
       "                        }\n",
       "                        .foliumtooltip th{\n",
       "                            padding: 2px; padding-right: 8px;\n",
       "                        }\n",
       "                    &lt;/style&gt;\n",
       "            \n",
       "&lt;/head&gt;\n",
       "&lt;body&gt;\n",
       "    \n",
       "    \n",
       "            &lt;div class=&quot;folium-map&quot; id=&quot;map_1ed874beefc9f8d13a6d2cba1c7c4d42&quot; &gt;&lt;/div&gt;\n",
       "        \n",
       "&lt;/body&gt;\n",
       "&lt;script&gt;\n",
       "    \n",
       "    \n",
       "            var map_1ed874beefc9f8d13a6d2cba1c7c4d42 = L.map(\n",
       "                &quot;map_1ed874beefc9f8d13a6d2cba1c7c4d42&quot;,\n",
       "                {\n",
       "                    center: [37.740824277, -76.284033009],\n",
       "                    crs: L.CRS.EPSG3857,\n",
       "                    zoom: 10,\n",
       "                    zoomControl: true,\n",
       "                    preferCanvas: false,\n",
       "                }\n",
       "            );\n",
       "            L.control.scale().addTo(map_1ed874beefc9f8d13a6d2cba1c7c4d42);\n",
       "\n",
       "            \n",
       "\n",
       "        \n",
       "    \n",
       "            var tile_layer_a415a80dbcc32b5d0105c8be579de0a4 = L.tileLayer(\n",
       "                &quot;https://{s}.tile.openstreetmap.org/{z}/{x}/{y}.png&quot;,\n",
       "                {&quot;attribution&quot;: &quot;Data by \\u0026copy; \\u003ca href=\\&quot;http://openstreetmap.org\\&quot;\\u003eOpenStreetMap\\u003c/a\\u003e, under \\u003ca href=\\&quot;http://www.openstreetmap.org/copyright\\&quot;\\u003eODbL\\u003c/a\\u003e.&quot;, &quot;detectRetina&quot;: false, &quot;maxNativeZoom&quot;: 18, &quot;maxZoom&quot;: 18, &quot;minZoom&quot;: 0, &quot;noWrap&quot;: false, &quot;opacity&quot;: 1, &quot;subdomains&quot;: &quot;abc&quot;, &quot;tms&quot;: false}\n",
       "            ).addTo(map_1ed874beefc9f8d13a6d2cba1c7c4d42);\n",
       "        \n",
       "    \n",
       "            map_1ed874beefc9f8d13a6d2cba1c7c4d42.fitBounds(\n",
       "                [[37.7112284, -76.309573551], [37.770420154, -76.258492467]],\n",
       "                {}\n",
       "            );\n",
       "        \n",
       "    \n",
       "        function geo_json_93da9d63325e0e4bd41c544f54b04557_styler(feature) {\n",
       "            switch(feature.id) {\n",
       "                default:\n",
       "                    return {&quot;fillOpacity&quot;: 0.5, &quot;weight&quot;: 2};\n",
       "            }\n",
       "        }\n",
       "        function geo_json_93da9d63325e0e4bd41c544f54b04557_highlighter(feature) {\n",
       "            switch(feature.id) {\n",
       "                default:\n",
       "                    return {&quot;fillOpacity&quot;: 0.75};\n",
       "            }\n",
       "        }\n",
       "        function geo_json_93da9d63325e0e4bd41c544f54b04557_pointToLayer(feature, latlng) {\n",
       "            var opts = {&quot;bubblingMouseEvents&quot;: true, &quot;color&quot;: &quot;#3388ff&quot;, &quot;dashArray&quot;: null, &quot;dashOffset&quot;: null, &quot;fill&quot;: true, &quot;fillColor&quot;: &quot;#3388ff&quot;, &quot;fillOpacity&quot;: 0.2, &quot;fillRule&quot;: &quot;evenodd&quot;, &quot;lineCap&quot;: &quot;round&quot;, &quot;lineJoin&quot;: &quot;round&quot;, &quot;opacity&quot;: 1.0, &quot;radius&quot;: 2, &quot;stroke&quot;: true, &quot;weight&quot;: 3};\n",
       "            \n",
       "            let style = geo_json_93da9d63325e0e4bd41c544f54b04557_styler(feature)\n",
       "            Object.assign(opts, style)\n",
       "            \n",
       "            return new L.CircleMarker(latlng, opts)\n",
       "        }\n",
       "\n",
       "        function geo_json_93da9d63325e0e4bd41c544f54b04557_onEachFeature(feature, layer) {\n",
       "            layer.on({\n",
       "                mouseout: function(e) {\n",
       "                    if(typeof e.target.setStyle === &quot;function&quot;){\n",
       "                        geo_json_93da9d63325e0e4bd41c544f54b04557.resetStyle(e.target);\n",
       "                    }\n",
       "                },\n",
       "                mouseover: function(e) {\n",
       "                    if(typeof e.target.setStyle === &quot;function&quot;){\n",
       "                        const highlightStyle = geo_json_93da9d63325e0e4bd41c544f54b04557_highlighter(e.target.feature)\n",
       "                        e.target.setStyle(highlightStyle);\n",
       "                    }\n",
       "                },\n",
       "            });\n",
       "        };\n",
       "        var geo_json_93da9d63325e0e4bd41c544f54b04557 = L.geoJson(null, {\n",
       "                onEachFeature: geo_json_93da9d63325e0e4bd41c544f54b04557_onEachFeature,\n",
       "            \n",
       "                style: geo_json_93da9d63325e0e4bd41c544f54b04557_styler,\n",
       "                pointToLayer: geo_json_93da9d63325e0e4bd41c544f54b04557_pointToLayer\n",
       "        });\n",
       "\n",
       "        function geo_json_93da9d63325e0e4bd41c544f54b04557_add (data) {\n",
       "            geo_json_93da9d63325e0e4bd41c544f54b04557\n",
       "                .addData(data)\n",
       "                .addTo(map_1ed874beefc9f8d13a6d2cba1c7c4d42);\n",
       "        }\n",
       "            geo_json_93da9d63325e0e4bd41c544f54b04557_add({&quot;bbox&quot;: [-76.309573551, 37.7112284, -76.258492467, 37.770420154], &quot;features&quot;: [{&quot;bbox&quot;: [-76.309573551, 37.7112284, -76.258492467, 37.770420154], &quot;geometry&quot;: {&quot;coordinates&quot;: [[-76.309573551, 37.76931072, 0.0], [-76.288078519, 37.770420154, 0.0], [-76.265296268, 37.733216227, 0.0], [-76.258492467, 37.7112284, 0.0]], &quot;type&quot;: &quot;LineString&quot;}, &quot;id&quot;: &quot;0&quot;, &quot;properties&quot;: {&quot;fmeasure&quot;: 37.1753, &quot;gnis_id&quot;: null, &quot;gnis_name&quot;: null, &quot;nhdplusid&quot;: 10000300147503.0, &quot;reachcode&quot;: &quot;02080102104531&quot;, &quot;tmeasure&quot;: 100.0}, &quot;type&quot;: &quot;Feature&quot;}], &quot;type&quot;: &quot;FeatureCollection&quot;});\n",
       "\n",
       "        \n",
       "    \n",
       "    geo_json_93da9d63325e0e4bd41c544f54b04557.bindTooltip(\n",
       "    function(layer){\n",
       "    let div = L.DomUtil.create(&#x27;div&#x27;);\n",
       "    \n",
       "    let handleObject = feature=&gt;typeof(feature)==&#x27;object&#x27; ? JSON.stringify(feature) : feature;\n",
       "    let fields = [&quot;gnis_id&quot;, &quot;fmeasure&quot;, &quot;tmeasure&quot;, &quot;gnis_name&quot;, &quot;nhdplusid&quot;, &quot;reachcode&quot;];\n",
       "    let aliases = [&quot;gnis_id&quot;, &quot;fmeasure&quot;, &quot;tmeasure&quot;, &quot;gnis_name&quot;, &quot;nhdplusid&quot;, &quot;reachcode&quot;];\n",
       "    let table = &#x27;&lt;table&gt;&#x27; +\n",
       "        String(\n",
       "        fields.map(\n",
       "        (v,i)=&gt;\n",
       "        `&lt;tr&gt;\n",
       "            &lt;th&gt;${aliases[i]}&lt;/th&gt;\n",
       "            \n",
       "            &lt;td&gt;${handleObject(layer.feature.properties[v])}&lt;/td&gt;\n",
       "        &lt;/tr&gt;`).join(&#x27;&#x27;))\n",
       "    +&#x27;&lt;/table&gt;&#x27;;\n",
       "    div.innerHTML=table;\n",
       "    \n",
       "    return div\n",
       "    }\n",
       "    ,{&quot;className&quot;: &quot;foliumtooltip&quot;, &quot;sticky&quot;: true});\n",
       "                     \n",
       "&lt;/script&gt;\n",
       "&lt;/html&gt;\" style=\"position:absolute;width:100%;height:100%;left:0;top:0;border:none !important;\" allowfullscreen webkitallowfullscreen mozallowfullscreen></iframe></div></div>"
      ],
      "text/plain": [
       "<folium.folium.Map at 0x1ab22b52260>"
      ]
     },
     "execution_count": 29,
     "metadata": {},
     "output_type": "execute_result"
    }
   ],
   "source": [
    "gdf.explore()"
   ]
  },
  {
   "cell_type": "code",
   "execution_count": null,
   "id": "86336f3c",
   "metadata": {},
   "outputs": [],
   "source": []
  }
 ],
 "metadata": {
  "kernelspec": {
   "display_name": "Python 3 (ipykernel)",
   "language": "python",
   "name": "python3"
  },
  "language_info": {
   "codemirror_mode": {
    "name": "ipython",
    "version": 3
   },
   "file_extension": ".py",
   "mimetype": "text/x-python",
   "name": "python",
   "nbconvert_exporter": "python",
   "pygments_lexer": "ipython3",
   "version": "3.10.1"
  }
 },
 "nbformat": 4,
 "nbformat_minor": 5
}
