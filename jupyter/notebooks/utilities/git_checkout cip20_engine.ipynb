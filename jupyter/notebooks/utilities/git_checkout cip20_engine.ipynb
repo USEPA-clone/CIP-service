{
 "cells": [
  {
   "cell_type": "markdown",
   "metadata": {},
   "source": [
    "## git_checkout cip20_engine"
   ]
  },
  {
   "cell_type": "code",
   "execution_count": 1,
   "metadata": {},
   "outputs": [],
   "source": [
    "import os,sys,git,tempfile,psycopg2;\n",
    "from ipywidgets import IntProgress,HTML,VBox;\n",
    "from IPython.display import display;\n",
    "\n",
    "sys.path.append(os.path.join(os.path.expanduser('~'),'notebooks'));\n",
    "import common;\n",
    "\n",
    "gith = os.environ['GITHUB_REPO_URL'];\n",
    "# override: \"git@github.com:USEPA/CIPv2.git\"\n",
    "brnh = os.environ['GITHUB_DEFAULT_BRANCH'];\n",
    "# override: \"mybranch\"\n",
    "\n",
    "dbse = os.environ['POSTGRES_DB'];\n",
    "host = os.environ['POSTGRES_HOST'];\n",
    "port = os.environ['POSTGRES_PORT'];\n",
    "user = 'cip20';\n",
    "pasw = os.environ['POSTGRES_CIP_PASS'];\n",
    "\n",
    "depf = os.path.join('cip','database','cip20_engine','cip20_engine_deploy.sql');\n"
   ]
  },
  {
   "cell_type": "code",
   "execution_count": 2,
   "metadata": {},
   "outputs": [],
   "source": [
    "cs = \"dbname=%s user=%s password=%s host=%s port=%s\" % (\n",
    "     dbse\n",
    "    ,user\n",
    "    ,pasw\n",
    "    ,host\n",
    "    ,port\n",
    ");\n",
    "\n",
    "try:\n",
    "    conn = psycopg2.connect(cs);\n",
    "except:\n",
    "    raise Exception(\"database connection error\");\n",
    "    "
   ]
  },
  {
   "cell_type": "code",
   "execution_count": 3,
   "metadata": {},
   "outputs": [],
   "source": [
    "td = tempfile.TemporaryDirectory();\n",
    "\n",
    "repo = git.Repo.clone_from(\n",
    "     url     = gith\n",
    "    ,branch  = brnh\n",
    "    ,to_path = td.name \n",
    "    ,depth   = 1\n",
    ");\n"
   ]
  },
  {
   "cell_type": "code",
   "execution_count": 4,
   "metadata": {},
   "outputs": [
    {
     "name": "stdout",
     "output_type": "stream",
     "text": [
      "CREATE FUNCTION\n",
      "ALTER FUNCTION\n",
      "GRANT\n",
      "CREATE FUNCTION\n",
      "ALTER FUNCTION\n",
      "GRANT\n",
      "CREATE FUNCTION\n",
      "ALTER FUNCTION\n",
      "GRANT\n",
      "CREATE FUNCTION\n",
      "ALTER FUNCTION\n",
      "GRANT\n",
      "CREATE FUNCTION\n",
      "ALTER FUNCTION\n"
     ]
    }
   ],
   "source": [
    "trg = os.path.join(td.name,depf);\n",
    "\n",
    "if not os.path.exists(trg):\n",
    "    raise Exception(trg + ' file not found.');\n",
    "    \n",
    "z = common.load_sqlfile(conn,trg,echo=True);\n"
   ]
  },
  {
   "cell_type": "code",
   "execution_count": 5,
   "metadata": {},
   "outputs": [],
   "source": [
    "conn.close();\n",
    "td.cleanup();\n"
   ]
  },
  {
   "cell_type": "code",
   "execution_count": null,
   "metadata": {},
   "outputs": [],
   "source": []
  }
 ],
 "metadata": {
  "kernelspec": {
   "display_name": "Python 3",
   "language": "python",
   "name": "python3"
  },
  "language_info": {
   "codemirror_mode": {
    "name": "ipython",
    "version": 3
   },
   "file_extension": ".py",
   "mimetype": "text/x-python",
   "name": "python",
   "nbconvert_exporter": "python",
   "pygments_lexer": "ipython3",
   "version": "3.8.10"
  }
 },
 "nbformat": 4,
 "nbformat_minor": 4
}
