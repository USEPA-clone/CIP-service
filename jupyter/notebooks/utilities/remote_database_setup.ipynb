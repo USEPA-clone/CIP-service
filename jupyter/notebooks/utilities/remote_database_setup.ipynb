{
 "cells": [
  {
   "cell_type": "code",
   "execution_count": null,
   "metadata": {},
   "outputs": [],
   "source": [
    "import os;\n"
   ]
  },
  {
   "cell_type": "markdown",
   "metadata": {},
   "source": [
    "Execute against the maintenance database"
   ]
  },
  {
   "cell_type": "code",
   "execution_count": null,
   "metadata": {},
   "outputs": [],
   "source": [
    "print(\"CREATE USER cipsrv         WITH PASSWORD '\" + os.environ['POSTGRES_CIP_PASS']  + \"';\");\n",
    "print(\"CREATE USER cipsrv_user    WITH PASSWORD '\" + os.environ['POSTGRES_CIP_PASS'] + \"';\");\n",
    "print(\"CREATE USER cipsrv_pgrest  WITH PASSWORD '\" + os.environ['POSTGREST_PASS']    + \"';\");\n",
    "\n",
    "print(\"CREATE DATABASE \" + os.environ['POSTGRES_DB'] + \";\");\n"
   ]
  },
  {
   "cell_type": "markdown",
   "metadata": {},
   "source": [
    "Execute against the new cipsrv database"
   ]
  },
  {
   "cell_type": "code",
   "execution_count": null,
   "metadata": {},
   "outputs": [],
   "source": [
    "print(\"CREATE EXTENSION IF NOT EXISTS hstore;\");\n",
    "print(\"CREATE EXTENSION IF NOT EXISTS \\\"uuid-ossp\\\";\");\n",
    "print(\"CREATE EXTENSION IF NOT EXISTS postgis;\");\n",
    "print(\"CREATE EXTENSION IF NOT EXISTS pgrouting;\");\n",
    "\n",
    "print(\"ALTER DATABASE \" + os.environ['POSTGRES_DB'] + \" OWNER TO cipsrv;\");\n",
    "print(\"GRANT CREATE ON DATABASE \" + os.environ['POSTGRES_DB'] + \" TO cipsrv_user;\");\n"
   ]
  },
  {
   "cell_type": "code",
   "execution_count": null,
   "metadata": {},
   "outputs": [],
   "source": [
    "print(\"GRANT ALL ON TABLE public.spatial_ref_sys TO cipsrv_user;\");\n",
    "print(\"CREATE SCHEMA cipsrv AUTHORIZATION cipsrv;\");\n",
    "print(\"CREATE SCHEMA cipsrv_engine AUTHORIZATION cipsrv;\");\n",
    "print(\"CREATE SCHEMA cipsrv_nhdplus_m AUTHORIZATION cipsrv;\");\n",
    "print(\"CREATE SCHEMA cipsrv_nhdplus_h AUTHORIZATION cipsrv;\");\n",
    "print(\"CREATE SCHEMA cipsrv_support AUTHORIZATION cipsrv;\");\n",
    "print(\"CREATE SCHEMA cipsrv_pgrest AUTHORIZATION cipsrv;\");\n",
    "print(\"ALTER  SCHEMA cipsrv_pgrest OWNER TO cipsrv_pgrest;\");\n",
    "print(\"GRANT  USAGE ON SCHEMA cipsrv_engine TO cipsrv_pgrest;\");\n",
    "print(\"GRANT  USAGE ON SCHEMA cipsrv_support TO cipsrv_pgrest;\");\n",
    "print(\"GRANT  USAGE ON SCHEMA cipsrv_nhdplus_m TO cipsrv_pgrest;\");\n",
    "print(\"GRANT  USAGE ON SCHEMA cipsrv_nhdplus_h TO cipsrv_pgrest;\");\n",
    "\n",
    "print(\"CREATE FUNCTION cipsrv_pgrest.test() RETURNS JSON AS \\$\\$ BEGIN RETURN json_object_agg('works',TRUE); END; \\$\\$ LANGUAGE 'plpgsql';\");\n",
    "print(\"ALTER  FUNCTION cipsrv_pgrest.test() OWNER TO cipsrv_pgrest;\");\n"
   ]
  },
  {
   "cell_type": "code",
   "execution_count": null,
   "metadata": {},
   "outputs": [],
   "source": []
  }
 ],
 "metadata": {
  "kernelspec": {
   "display_name": "Python 3",
   "language": "python",
   "name": "python3"
  },
  "language_info": {
   "codemirror_mode": {
    "name": "ipython",
    "version": 3
   },
   "file_extension": ".py",
   "mimetype": "text/x-python",
   "name": "python",
   "nbconvert_exporter": "python",
   "pygments_lexer": "ipython3",
   "version": "3.8.10"
  }
 },
 "nbformat": 4,
 "nbformat_minor": 4
}
