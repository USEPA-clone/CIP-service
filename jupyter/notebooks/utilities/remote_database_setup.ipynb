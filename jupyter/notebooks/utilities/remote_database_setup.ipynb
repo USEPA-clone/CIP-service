{
 "cells": [
  {
   "cell_type": "code",
   "execution_count": null,
   "metadata": {},
   "outputs": [],
   "source": [
    "import os;\n"
   ]
  },
  {
   "cell_type": "markdown",
   "metadata": {},
   "source": [
    "Execute against the maintenance database"
   ]
  },
  {
   "cell_type": "code",
   "execution_count": null,
   "metadata": {},
   "outputs": [],
   "source": [
    "print(\"CREATE USER cip20         WITH PASSWORD '\" + os.environ['POSTGRES_CIP_PASS']  + \"';\");\n",
    "print(\"CREATE USER cip20_user    WITH PASSWORD '\" + os.environ['POSTGRES_CIP_PASS'] + \"';\");\n",
    "print(\"CREATE USER cip20_pgrest  WITH PASSWORD '\" + os.environ['POSTGREST_PASS']    + \"';\");\n",
    "\n",
    "print(\"CREATE DATABASE \" + os.environ['POSTGRES_DB'] + \";\");\n"
   ]
  },
  {
   "cell_type": "markdown",
   "metadata": {},
   "source": [
    "Execute against the new cip20 database"
   ]
  },
  {
   "cell_type": "code",
   "execution_count": null,
   "metadata": {},
   "outputs": [],
   "source": [
    "print(\"CREATE EXTENSION IF NOT EXISTS hstore;\");\n",
    "print(\"CREATE EXTENSION IF NOT EXISTS \\\"uuid-ossp\\\";\");\n",
    "print(\"CREATE EXTENSION IF NOT EXISTS postgis;\");\n",
    "print(\"CREATE EXTENSION IF NOT EXISTS pgrouting;\");\n",
    "\n",
    "print(\"ALTER DATABASE \" + os.environ['POSTGRES_DB'] + \" OWNER TO cip20;\");\n",
    "print(\"GRANT CREATE ON DATABASE \" + os.environ['POSTGRES_DB'] + \" TO cip20_user;\");\n"
   ]
  },
  {
   "cell_type": "code",
   "execution_count": null,
   "metadata": {},
   "outputs": [],
   "source": [
    "print(\"GRANT ALL ON TABLE public.spatial_ref_sys TO cip20_user;\");\n",
    "print(\"CREATE SCHEMA cip20 AUTHORIZATION cip20;\");\n",
    "print(\"CREATE SCHEMA cip20_engine AUTHORIZATION cip20;\");\n",
    "print(\"CREATE SCHEMA cip20_nhdplus_m AUTHORIZATION cip20;\");\n",
    "print(\"CREATE SCHEMA cip20_nhdplus_h AUTHORIZATION cip20;\");\n",
    "print(\"CREATE SCHEMA cip20_support AUTHORIZATION cip20;\");\n",
    "print(\"CREATE SCHEMA cip20_pgrest AUTHORIZATION cip20;\");\n",
    "print(\"ALTER  SCHEMA cip20_pgrest OWNER TO cip20_pgrest;\");\n",
    "print(\"GRANT  USAGE ON SCHEMA cip20_engine TO cip20_pgrest;\");\n",
    "print(\"GRANT  USAGE ON SCHEMA cip20_support TO cip20_pgrest;\");\n",
    "print(\"GRANT  USAGE ON SCHEMA cip20_nhdplus_m TO cip20_pgrest;\");\n",
    "print(\"GRANT  USAGE ON SCHEMA cip20_nhdplus_h TO cip20_pgrest;\");\n",
    "\n",
    "print(\"CREATE FUNCTION cip20_pgrest.test() RETURNS JSON AS \\$\\$ BEGIN RETURN json_object_agg('works',TRUE); END; \\$\\$ LANGUAGE 'plpgsql';\");\n",
    "print(\"ALTER  FUNCTION cip20_pgrest.test() OWNER TO cip20_pgrest;\");\n"
   ]
  },
  {
   "cell_type": "code",
   "execution_count": null,
   "metadata": {},
   "outputs": [],
   "source": []
  }
 ],
 "metadata": {
  "kernelspec": {
   "display_name": "Python 3",
   "language": "python",
   "name": "python3"
  },
  "language_info": {
   "codemirror_mode": {
    "name": "ipython",
    "version": 3
   },
   "file_extension": ".py",
   "mimetype": "text/x-python",
   "name": "python",
   "nbconvert_exporter": "python",
   "pygments_lexer": "ipython3",
   "version": "3.8.10"
  }
 },
 "nbformat": 4,
 "nbformat_minor": 4
}
