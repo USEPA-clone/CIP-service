{
 "cells": [
  {
   "cell_type": "markdown",
   "metadata": {},
   "source": [
    "### Quick Setup\n",
    "\n",
    "This recipe will load the medium resolution NHDPlus only."
   ]
  },
  {
   "cell_type": "code",
   "execution_count": 1,
   "metadata": {},
   "outputs": [
    {
     "name": "stdout",
     "output_type": "stream",
     "text": [
      "source: https://edap-ow-data-commons.s3.amazonaws.com/data/\n"
     ]
    }
   ],
   "source": [
    "%run ./\"pg_restore cip20_support\".ipynb"
   ]
  },
  {
   "cell_type": "code",
   "execution_count": 2,
   "metadata": {},
   "outputs": [
    {
     "name": "stderr",
     "output_type": "stream",
     "text": [
      "ERROR:root:File `'./pg_restore cip20_m_nhdplus.ipynb.py'` not found.\n"
     ]
    }
   ],
   "source": [
    "%run ./\"pg_restore cip20_nhdplus_m\".ipynb"
   ]
  },
  {
   "cell_type": "code",
   "execution_count": 3,
   "metadata": {},
   "outputs": [
    {
     "name": "stdout",
     "output_type": "stream",
     "text": [
      "repo: git@github.com:Eastern-Research-Group/EPA-OW-CIP20.git\n",
      "branch: main\n",
      "database is ready\n",
      "CREATE FUNCTION\n",
      "ALTER FUNCTION\n",
      "GRANT\n",
      "CREATE FUNCTION\n",
      "ALTER FUNCTION\n",
      "GRANT\n",
      "CREATE FUNCTION\n",
      "ALTER FUNCTION\n",
      "GRANT\n",
      "CREATE FUNCTION\n",
      "ALTER FUNCTION\n"
     ]
    }
   ],
   "source": [
    "%run ./\"git_checkout cip20_support\".ipynb"
   ]
  },
  {
   "cell_type": "code",
   "execution_count": 4,
   "metadata": {},
   "outputs": [
    {
     "ename": "DependentObjectsStillExist",
     "evalue": "cannot drop materialized view cip20_nhdplus_m.nhdplusflowlinevaa_catnodes because other objects depend on it\nDETAIL:  materialized view cip20_nhdplus_m.catchment_3338 depends on materialized view cip20_nhdplus_m.nhdplusflowlinevaa_catnodes\nmaterialized view cip20_nhdplus_m.catchment_5070 depends on materialized view cip20_nhdplus_m.nhdplusflowlinevaa_catnodes\nmaterialized view cip20_nhdplus_m.catchment_26904 depends on materialized view cip20_nhdplus_m.nhdplusflowlinevaa_catnodes\nmaterialized view cip20_nhdplus_m.catchment_32161 depends on materialized view cip20_nhdplus_m.nhdplusflowlinevaa_catnodes\nmaterialized view cip20_nhdplus_m.catchment_32655 depends on materialized view cip20_nhdplus_m.nhdplusflowlinevaa_catnodes\nmaterialized view cip20_nhdplus_m.catchment_32702 depends on materialized view cip20_nhdplus_m.nhdplusflowlinevaa_catnodes\nHINT:  Use DROP ... CASCADE to drop the dependent objects too.\n",
     "output_type": "error",
     "traceback": [
      "\u001b[0;31m---------------------------------------------------------------------------\u001b[0m",
      "\u001b[0;31mDependentObjectsStillExist\u001b[0m                Traceback (most recent call last)",
      "\u001b[0;32m~/notebooks/utilities/git_checkout cip20_nhdplus_m.ipynb\u001b[0m in \u001b[0;36m<module>\u001b[0;34m\u001b[0m\n\u001b[1;32m      4\u001b[0m     \u001b[0;32mraise\u001b[0m \u001b[0mException\u001b[0m\u001b[0;34m(\u001b[0m\u001b[0mtrg\u001b[0m \u001b[0;34m+\u001b[0m \u001b[0;34m' file not found.'\u001b[0m\u001b[0;34m)\u001b[0m\u001b[0;34m;\u001b[0m\u001b[0;34m\u001b[0m\u001b[0;34m\u001b[0m\u001b[0m\n\u001b[1;32m      5\u001b[0m \u001b[0;34m\u001b[0m\u001b[0m\n\u001b[0;32m----> 6\u001b[0;31m \u001b[0mz\u001b[0m \u001b[0;34m=\u001b[0m \u001b[0mcommon\u001b[0m\u001b[0;34m.\u001b[0m\u001b[0mload_sqlfile\u001b[0m\u001b[0;34m(\u001b[0m\u001b[0mconn\u001b[0m\u001b[0;34m,\u001b[0m\u001b[0mtrg\u001b[0m\u001b[0;34m,\u001b[0m\u001b[0mecho\u001b[0m\u001b[0;34m=\u001b[0m\u001b[0;32mTrue\u001b[0m\u001b[0;34m)\u001b[0m\u001b[0;34m;\u001b[0m\u001b[0;34m\u001b[0m\u001b[0;34m\u001b[0m\u001b[0m\n\u001b[0m",
      "\u001b[0;32m~/notebooks/common.py\u001b[0m in \u001b[0;36mload_sqlfile\u001b[0;34m(conn, sqlfile, echo)\u001b[0m\n\u001b[1;32m     51\u001b[0m \u001b[0;34m\u001b[0m\u001b[0m\n\u001b[1;32m     52\u001b[0m                         \u001b[0msqltxt\u001b[0m \u001b[0;34m=\u001b[0m \u001b[0;34m''\u001b[0m\u001b[0;34m.\u001b[0m\u001b[0mjoin\u001b[0m\u001b[0;34m(\u001b[0m\u001b[0msqlbuf\u001b[0m\u001b[0;34m)\u001b[0m\u001b[0;34m;\u001b[0m\u001b[0;34m\u001b[0m\u001b[0;34m\u001b[0m\u001b[0m\n\u001b[0;32m---> 53\u001b[0;31m                         \u001b[0mcursor\u001b[0m\u001b[0;34m.\u001b[0m\u001b[0mexecute\u001b[0m\u001b[0;34m(\u001b[0m\u001b[0msqltxt\u001b[0m\u001b[0;34m)\u001b[0m\u001b[0;34m;\u001b[0m\u001b[0;34m\u001b[0m\u001b[0;34m\u001b[0m\u001b[0m\n\u001b[0m\u001b[1;32m     54\u001b[0m                         \u001b[0msm\u001b[0m \u001b[0;34m=\u001b[0m \u001b[0mcursor\u001b[0m\u001b[0;34m.\u001b[0m\u001b[0mstatusmessage\u001b[0m\u001b[0;34m;\u001b[0m\u001b[0;34m\u001b[0m\u001b[0;34m\u001b[0m\u001b[0m\n\u001b[1;32m     55\u001b[0m                         \u001b[0mresp\u001b[0m\u001b[0;34m.\u001b[0m\u001b[0mappend\u001b[0m\u001b[0;34m(\u001b[0m\u001b[0msm\u001b[0m\u001b[0;34m)\u001b[0m\u001b[0;34m;\u001b[0m\u001b[0;34m\u001b[0m\u001b[0;34m\u001b[0m\u001b[0m\n",
      "\u001b[0;31mDependentObjectsStillExist\u001b[0m: cannot drop materialized view cip20_nhdplus_m.nhdplusflowlinevaa_catnodes because other objects depend on it\nDETAIL:  materialized view cip20_nhdplus_m.catchment_3338 depends on materialized view cip20_nhdplus_m.nhdplusflowlinevaa_catnodes\nmaterialized view cip20_nhdplus_m.catchment_5070 depends on materialized view cip20_nhdplus_m.nhdplusflowlinevaa_catnodes\nmaterialized view cip20_nhdplus_m.catchment_26904 depends on materialized view cip20_nhdplus_m.nhdplusflowlinevaa_catnodes\nmaterialized view cip20_nhdplus_m.catchment_32161 depends on materialized view cip20_nhdplus_m.nhdplusflowlinevaa_catnodes\nmaterialized view cip20_nhdplus_m.catchment_32655 depends on materialized view cip20_nhdplus_m.nhdplusflowlinevaa_catnodes\nmaterialized view cip20_nhdplus_m.catchment_32702 depends on materialized view cip20_nhdplus_m.nhdplusflowlinevaa_catnodes\nHINT:  Use DROP ... CASCADE to drop the dependent objects too.\n"
     ]
    }
   ],
   "source": [
    "%run ./\"git_checkout cip20_nhdplus_m\".ipynb"
   ]
  },
  {
   "cell_type": "code",
   "execution_count": 5,
   "metadata": {},
   "outputs": [
    {
     "name": "stdout",
     "output_type": "stream",
     "text": [
      "CREATE FUNCTION\n",
      "ALTER FUNCTION\n",
      "GRANT\n",
      "CREATE FUNCTION\n",
      "ALTER FUNCTION\n",
      "GRANT\n",
      "CREATE FUNCTION\n",
      "ALTER FUNCTION\n",
      "GRANT\n",
      "CREATE FUNCTION\n",
      "ALTER FUNCTION\n",
      "GRANT\n",
      "CREATE FUNCTION\n",
      "ALTER FUNCTION\n"
     ]
    }
   ],
   "source": [
    "%run ./\"git_checkout cip20_engine\".ipynb"
   ]
  },
  {
   "cell_type": "code",
   "execution_count": 6,
   "metadata": {},
   "outputs": [
    {
     "name": "stdout",
     "output_type": "stream",
     "text": [
      "repo: git@github.com:Eastern-Research-Group/EPA-OW-CIP20.git\n",
      "branch: main\n",
      "database is ready\n",
      "CREATE FUNCTION\n",
      "ALTER FUNCTION\n"
     ]
    }
   ],
   "source": [
    "%run ./\"git_checkout cip20_pgrest\".ipynb"
   ]
  }
 ],
 "metadata": {
  "kernelspec": {
   "display_name": "Python 3",
   "language": "python",
   "name": "python3"
  },
  "language_info": {
   "codemirror_mode": {
    "name": "ipython",
    "version": 3
   },
   "file_extension": ".py",
   "mimetype": "text/x-python",
   "name": "python",
   "nbconvert_exporter": "python",
   "pygments_lexer": "ipython3",
   "version": "3.8.10"
  }
 },
 "nbformat": 4,
 "nbformat_minor": 4
}
