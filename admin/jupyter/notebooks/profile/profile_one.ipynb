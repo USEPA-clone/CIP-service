{
 "cells": [
  {
   "cell_type": "code",
   "execution_count": null,
   "id": "2696514e-c289-48f4-9570-4c9c06a435c6",
   "metadata": {},
   "outputs": [],
   "source": [
    "import os,sys,argparse;\n",
    "from IPython.display import display,HTML,IFrame;\n",
    "from plprofiler import plprofiler;\n",
    "from plprofiler import plprofiler_tool;\n",
    "from contextlib import closing;\n",
    "parser = argparse.ArgumentParser();\n",
    "args, _ = parser.parse_known_args();\n",
    "\n",
    "sys.path.append(os.path.join(os.path.expanduser('~'),'notebooks'));\n",
    "import common;\n"
   ]
  },
  {
   "cell_type": "code",
   "execution_count": null,
   "id": "44f90652-4b93-4b62-9f7e-ebf9fd2ea871",
   "metadata": {},
   "outputs": [],
   "source": [
    "profile_one = plprofiler();\n",
    "\n",
    "cs = {\n",
    "     \"dbname\"  : os.environ['POSTGRESQL_DB']\n",
    "    ,\"user\"    : 'cipsrv'\n",
    "    ,\"password\": os.environ['POSTGRESQL_CIP_PASS'] \n",
    "    ,\"host\"    : os.environ['POSTGRESQL_HOST']\n",
    "    ,\"port\"    : os.environ['POSTGRESQL_PORT']\n",
    "}\n",
    "\n",
    "try:\n",
    "    profile_one.connect(cs);\n",
    "except:\n",
    "    raise Exception(\"database connection error\");\n",
    "\n",
    "print(\"database is ready\");"
   ]
  },
  {
   "cell_type": "code",
   "execution_count": null,
   "id": "e85bbe9d-4fa6-4410-b021-3ef5e6709678",
   "metadata": {},
   "outputs": [],
   "source": [
    "str_sql = \"\"\"\n",
    "    DO $$DECLARE\n",
    "        rec RECORD;\n",
    "    BEGIN\n",
    "        rec := cipsrv_engine.cipsrv_index(\n",
    "            p_points                         := JSONB_BUILD_OBJECT(\n",
    "                 'type'       ,'Point'\n",
    "                ,'coordinates',JSONB_BUILD_ARRAY(-96.728783,46.88155)\n",
    "            )\n",
    "           ,p_lines                          := NULL\n",
    "           ,p_areas                          := NULL\n",
    "           ,p_geometry                       := NULL\n",
    "           ,p_geometry_clip                  := NULL\n",
    "           ,p_geometry_clip_stage            := NULL\n",
    "           ,p_catchment_filter               := ARRAY['MN']\n",
    "           ,p_nhdplus_version                := 'MR'\n",
    "           ,p_wbd_version                    := NULL  \n",
    "           ,p_default_point_indexing_method  := 'point_simple'\n",
    "           ,p_default_line_indexing_method   := 'line_simple'\n",
    "           ,p_default_line_threshold         := 10\n",
    "           ,p_default_ring_indexing_method   := 'area_simple'\n",
    "           ,p_default_ring_areacat_threshold := 10\n",
    "           ,p_default_ring_areaevt_threshold := 50\n",
    "           ,p_default_area_indexing_method   := 'area_simple'\n",
    "           ,p_default_areacat_threshold      := 10\n",
    "           ,p_default_areaevt_threshold      := 50\n",
    "           ,p_known_region                   := '5070'\n",
    "           ,p_return_indexed_features        := FALSE\n",
    "           ,p_return_indexed_collection      := FALSE\n",
    "           ,p_return_catchment_geometry      := TRUE\n",
    "           ,p_return_indexing_summary        := TRUE\n",
    "        );\n",
    "\n",
    "    END;$$\n",
    "\"\"\";"
   ]
  },
  {
   "cell_type": "code",
   "execution_count": null,
   "id": "eda69b5f-c3df-4252-a43d-fbefaafb91bb",
   "metadata": {},
   "outputs": [],
   "source": [
    "profile_one.enable();\n",
    "profile_one.reset_local();\n",
    "profile_one.execute_sql(str_sql,sys.stdout);\n"
   ]
  },
  {
   "cell_type": "code",
   "execution_count": null,
   "id": "c7d8063d-1f28-4eaa-a74c-c733c559a326",
   "metadata": {},
   "outputs": [],
   "source": [
    "opt_top = 10;\n",
    "\n",
    "config = {\n",
    "     'name':         'profile one'\n",
    "    ,'title':        'profile one'\n",
    "    ,'tabstop':      3\n",
    "    ,'svg_width':    1200\n",
    "    ,'table_width':  '80%'\n",
    "    ,'desc':         'profile one'\n",
    "}\n",
    "opt_name = config['name'];\n",
    "report_data = profile_one.get_local_report_data(opt_name,opt_top,None);\n",
    "report_data['config'] = config;\n",
    "\n",
    "with open('./tmp_profile_one.html','w') as output_fd:\n",
    "    profile_one.report(report_data,output_fd);\n"
   ]
  },
  {
   "cell_type": "code",
   "execution_count": null,
   "id": "91362b1c-e39f-45d7-92b8-b77f652c7c87",
   "metadata": {},
   "outputs": [],
   "source": [
    "display(IFrame(src='./tmp_profile_one.html',width=1080,height=1200));"
   ]
  },
  {
   "cell_type": "code",
   "execution_count": null,
   "id": "239daa20-c915-47b6-8579-670c3a3c3729",
   "metadata": {},
   "outputs": [],
   "source": [
    "os.remove('./tmp_profile_one.html');\n"
   ]
  },
  {
   "cell_type": "code",
   "execution_count": null,
   "id": "14318cd0-9d64-4eb2-a1a4-0ec95d784890",
   "metadata": {},
   "outputs": [],
   "source": []
  }
 ],
 "metadata": {
  "kernelspec": {
   "display_name": "Python 3 (ipykernel)",
   "language": "python",
   "name": "python3"
  },
  "language_info": {
   "codemirror_mode": {
    "name": "ipython",
    "version": 3
   },
   "file_extension": ".py",
   "mimetype": "text/x-python",
   "name": "python",
   "nbconvert_exporter": "python",
   "pygments_lexer": "ipython3",
   "version": "3.12.3"
  }
 },
 "nbformat": 4,
 "nbformat_minor": 5
}
