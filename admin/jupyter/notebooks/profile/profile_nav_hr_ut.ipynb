{
 "cells": [
  {
   "cell_type": "code",
   "execution_count": 4,
   "id": "2696514e-c289-48f4-9570-4c9c06a435c6",
   "metadata": {},
   "outputs": [],
   "source": [
    "import os,sys,argparse;\n",
    "from IPython.display import display,HTML,IFrame;\n",
    "from plprofiler import plprofiler;\n",
    "from plprofiler import plprofiler_tool;\n",
    "from contextlib import closing;\n",
    "parser = argparse.ArgumentParser();\n",
    "args, _ = parser.parse_known_args();\n",
    "\n",
    "sys.path.append(os.path.join(os.path.expanduser('~'),'notebooks'));\n",
    "import common;\n"
   ]
  },
  {
   "cell_type": "code",
   "execution_count": 5,
   "id": "44f90652-4b93-4b62-9f7e-ebf9fd2ea871",
   "metadata": {},
   "outputs": [
    {
     "name": "stdout",
     "output_type": "stream",
     "text": [
      "database is ready\n"
     ]
    }
   ],
   "source": [
    "profile_nav_ut = plprofiler();\n",
    "\n",
    "cs = {\n",
    "     \"dbname\"  : os.environ['POSTGRESQL_DB']\n",
    "    ,\"user\"    : 'cipsrv'\n",
    "    ,\"password\": os.environ['POSTGRESQL_CIP_PASS'] \n",
    "    ,\"host\"    : os.environ['POSTGRESQL_HOST']\n",
    "    ,\"port\"    : os.environ['POSTGRESQL_PORT']\n",
    "}\n",
    "\n",
    "try:\n",
    "    profile_nav_ut.connect(cs);\n",
    "except:\n",
    "    raise Exception(\"database connection error\");\n",
    "\n",
    "print(\"database is ready\");"
   ]
  },
  {
   "cell_type": "code",
   "execution_count": 6,
   "id": "e85bbe9d-4fa6-4410-b021-3ef5e6709678",
   "metadata": {},
   "outputs": [],
   "source": [
    "str_sql = \"\"\"\n",
    "    DO $$DECLARE\n",
    "        rec RECORD;\n",
    "    BEGIN\n",
    "        rec := cipsrv_nhdplus_h.navigate(\n",
    "            p_search_type                := 'UT'\n",
    "           ,p_start_nhdplusid            := 20000100000044\n",
    "           ,p_start_permanent_identifier := NULL\n",
    "           ,p_start_reachcode            := NULL\n",
    "           ,p_start_hydroseq             := NULL\n",
    "           ,p_start_measure              := 14.0713\n",
    "           ,p_stop_nhdplusid             := NULL\n",
    "           ,p_stop_permanent_identifier  := NULL\n",
    "           ,p_stop_reachcode             := NULL\n",
    "           ,p_stop_hydroseq              := NULL\n",
    "           ,p_stop_measure               := NULL\n",
    "           ,p_max_distancekm             := 450\n",
    "           ,p_max_flowtimeday            := NULL\n",
    "           ,p_return_flowline_details    := TRUE\n",
    "           ,p_return_flowline_geometry   := TRUE\n",
    "       );\n",
    "\n",
    "    END;$$\n",
    "\"\"\";"
   ]
  },
  {
   "cell_type": "code",
   "execution_count": 7,
   "id": "eda69b5f-c3df-4252-a43d-fbefaafb91bb",
   "metadata": {},
   "outputs": [
    {
     "name": "stdout",
     "output_type": "stream",
     "text": [
      "\n",
      "    DO $$DECLARE\n",
      "        rec RECORD;\n",
      "    BEGIN\n",
      "        rec := cipsrv_nhdplus_h.navigate(\n",
      "            p_search_type                := 'UT'\n",
      "           ,p_start_nhdplusid            := 20000100000044\n",
      "           ,p_start_permanent_identifier := NULL\n",
      "           ,p_start_reachcode            := NULL\n",
      "           ,p_start_hydroseq             := NULL\n",
      "           ,p_start_measure              := 14.0713\n",
      "           ,p_stop_nhdplusid             := NULL\n",
      "           ,p_stop_permanent_identifier  := NULL\n",
      "           ,p_stop_reachcode             := NULL\n",
      "           ,p_stop_hydroseq              := NULL\n",
      "           ,p_stop_measure               := NULL\n",
      "           ,p_max_distancekm             := 450\n",
      "           ,p_max_flowtimeday            := NULL\n",
      "           ,p_return_flowline_details    := TRUE\n",
      "           ,p_return_flowline_geometry   := TRUE\n",
      "       );\n",
      "\n",
      "    END;$$\n",
      "\n",
      "DO (60.368 seconds)\n",
      "\n"
     ]
    }
   ],
   "source": [
    "profile_nav_ut.enable();\n",
    "profile_nav_ut.reset_local();\n",
    "profile_nav_ut.execute_sql(str_sql,sys.stdout);\n"
   ]
  },
  {
   "cell_type": "code",
   "execution_count": 8,
   "id": "c7d8063d-1f28-4eaa-a74c-c733c559a326",
   "metadata": {},
   "outputs": [],
   "source": [
    "opt_top = 10;\n",
    "\n",
    "config = {\n",
    "     'name':         'profile nav ut'\n",
    "    ,'title':        'profile nav ut'\n",
    "    ,'tabstop':      3\n",
    "    ,'svg_width':    1200\n",
    "    ,'table_width':  '80%'\n",
    "    ,'desc':         'profile nav ut'\n",
    "}\n",
    "opt_name = config['name'];\n",
    "report_data = profile_nav_ut.get_local_report_data(opt_name,opt_top,None);\n",
    "report_data['config'] = config;\n",
    "\n",
    "with open('./tmp_profile_nav_ut.html','w') as output_fd:\n",
    "    profile_nav_ut.report(report_data,output_fd);\n"
   ]
  },
  {
   "cell_type": "code",
   "execution_count": 9,
   "id": "91362b1c-e39f-45d7-92b8-b77f652c7c87",
   "metadata": {},
   "outputs": [
    {
     "data": {
      "text/html": [
       "\n",
       "        <iframe\n",
       "            width=\"1080\"\n",
       "            height=\"1200\"\n",
       "            src=\"./tmp_profile_nav_ut.html\"\n",
       "            frameborder=\"0\"\n",
       "            allowfullscreen\n",
       "            \n",
       "        ></iframe>\n",
       "        "
      ],
      "text/plain": [
       "<IPython.lib.display.IFrame at 0x7fb17c09ca10>"
      ]
     },
     "metadata": {},
     "output_type": "display_data"
    }
   ],
   "source": [
    "display(IFrame(src='./tmp_profile_nav_ut.html',width=1080,height=1200));"
   ]
  },
  {
   "cell_type": "code",
   "execution_count": null,
   "id": "239daa20-c915-47b6-8579-670c3a3c3729",
   "metadata": {},
   "outputs": [],
   "source": [
    "os.remove('./tmp_profile_nav_ut.html');\n"
   ]
  },
  {
   "cell_type": "code",
   "execution_count": null,
   "id": "14318cd0-9d64-4eb2-a1a4-0ec95d784890",
   "metadata": {},
   "outputs": [],
   "source": []
  }
 ],
 "metadata": {
  "kernelspec": {
   "display_name": "Python 3 (ipykernel)",
   "language": "python",
   "name": "python3"
  },
  "language_info": {
   "codemirror_mode": {
    "name": "ipython",
    "version": 3
   },
   "file_extension": ".py",
   "mimetype": "text/x-python",
   "name": "python",
   "nbconvert_exporter": "python",
   "pygments_lexer": "ipython3",
   "version": "3.12.3"
  }
 },
 "nbformat": 4,
 "nbformat_minor": 5
}
