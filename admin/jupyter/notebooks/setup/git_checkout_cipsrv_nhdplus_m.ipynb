{
 "cells": [
  {
   "cell_type": "markdown",
   "metadata": {},
   "source": [
    "## git_checkout cipsrv_nhdplus_m"
   ]
  },
  {
   "cell_type": "code",
   "execution_count": null,
   "metadata": {},
   "outputs": [],
   "source": [
    "import os,sys,git,tempfile,psycopg2,argparse;\n",
    "from ipywidgets import IntProgress,HTML,VBox;\n",
    "from IPython.display import display;\n",
    "parser = argparse.ArgumentParser();\n",
    "parser.add_argument(\"--override_branch\" ,required=False);\n",
    "args, _ = parser.parse_known_args();\n",
    "\n",
    "sys.path.append(os.path.join(os.path.expanduser('~'),'notebooks'));\n",
    "import common;\n",
    "\n",
    "gith = os.environ['GITHUB_REPO_URL'];\n",
    "# override: \"git@github.com:USEPA/CIPv2.git\"\n",
    "if args.override_branch is not None:\n",
    "    brnh = args.override_branch;\n",
    "else:\n",
    "    brnh = os.environ['GITHUB_DEFAULT_BRANCH'];\n",
    "# override: \"mybranch\"\n",
    "\n",
    "dbse = os.environ['POSTGRESQL_DB'];\n",
    "host = os.environ['POSTGRESQL_HOST'];\n",
    "port = os.environ['POSTGRESQL_PORT'];\n",
    "user = 'cipsrv';\n",
    "pasw = os.environ['POSTGRESQL_CIP_PASS'];\n",
    "\n",
    "depf  = os.path.join('src','database','cipsrv_nhdplus_m','cipsrv_nhdplus_m_deploy.sql');\n",
    "\n",
    "print(\"repo: \" + gith);\n",
    "print(\"branch: \" + brnh);"
   ]
  },
  {
   "cell_type": "code",
   "execution_count": null,
   "metadata": {},
   "outputs": [],
   "source": [
    "cs = \"dbname=%s user=%s password=%s host=%s port=%s\" % (\n",
    "     dbse\n",
    "    ,user\n",
    "    ,pasw\n",
    "    ,host\n",
    "    ,port\n",
    ");\n",
    "\n",
    "try:\n",
    "    conn = psycopg2.connect(cs);\n",
    "except:\n",
    "    raise Exception(\"database connection error\");\n",
    "\n",
    "print(\"database is ready\");"
   ]
  },
  {
   "cell_type": "code",
   "execution_count": null,
   "metadata": {},
   "outputs": [],
   "source": [
    "td = tempfile.TemporaryDirectory();\n",
    "\n",
    "repo = git.Repo.clone_from(\n",
    "     url     = gith\n",
    "    ,branch  = brnh\n",
    "    ,to_path = td.name \n",
    "    ,depth   = 1\n",
    ");\n",
    "\n",
    "print(\"checkout complete.\");"
   ]
  },
  {
   "cell_type": "code",
   "execution_count": null,
   "metadata": {},
   "outputs": [],
   "source": [
    "trg = os.path.join(td.name,depf);\n",
    "\n",
    "if not os.path.exists(trg):\n",
    "    raise Exception(trg + ' file not found.');\n",
    "    \n",
    "z = common.load_sqlfile(conn,trg,echo=True);\n"
   ]
  },
  {
   "cell_type": "code",
   "execution_count": null,
   "metadata": {},
   "outputs": [],
   "source": [
    "conn.close();\n",
    "td.cleanup();\n",
    "\n",
    "print(\"logic load complete.\");"
   ]
  }
 ],
 "metadata": {
  "kernelspec": {
   "display_name": "Python 3 (ipykernel)",
   "language": "python",
   "name": "python3"
  },
  "language_info": {
   "codemirror_mode": {
    "name": "ipython",
    "version": 3
   },
   "file_extension": ".py",
   "mimetype": "text/x-python",
   "name": "python",
   "nbconvert_exporter": "python",
   "pygments_lexer": "ipython3",
   "version": "3.12.3"
  }
 },
 "nbformat": 4,
 "nbformat_minor": 4
}
