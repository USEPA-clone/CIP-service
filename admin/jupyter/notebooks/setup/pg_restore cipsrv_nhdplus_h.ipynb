{
 "cells": [
  {
   "cell_type": "markdown",
   "metadata": {},
   "source": [
    "## pg_restore cipsrv_nhdplus_h"
   ]
  },
  {
   "cell_type": "code",
   "execution_count": 1,
   "metadata": {},
   "outputs": [
    {
     "name": "stdout",
     "output_type": "stream",
     "text": [
      "source: https://edap-ow-data-commons.s3.amazonaws.com/data/\n"
     ]
    }
   ],
   "source": [
    "import os,sys,psycopg2;\n",
    "from ipywidgets import IntProgress,HTML,VBox;\n",
    "from IPython.display import display;\n",
    "from contextlib import closing;\n",
    "\n",
    "sys.path.append(os.path.join(os.path.expanduser('~'),'notebooks'));\n",
    "import common;\n",
    "\n",
    "s3bk = os.environ['S3_BUCKET'];\n",
    "# override: s3bk = 'https://edap-ow-data-commons.s3.amazonaws.com/data/';\n",
    "lddk = os.path.join(os.path.expanduser('~'),'loading_dock');\n",
    "dbse = os.environ['POSTGRESQL_DB'];\n",
    "host = os.environ['POSTGRESQL_HOST'];\n",
    "port = os.environ['POSTGRESQL_PORT'];\n",
    "user = 'cipsrv';\n",
    "pswd = os.environ['POSTGRESQL_CIP_PASS'];\n",
    "thds = 2;\n",
    "\n",
    "src = 'cipsrv_nhdplus_h_2.dmp';\n",
    "dmp = 'cipsrv_nhdplus_h.dmp';\n",
    "\n",
    "print(\"source: \" + s3bk);"
   ]
  },
  {
   "cell_type": "code",
   "execution_count": 4,
   "metadata": {},
   "outputs": [],
   "source": [
    "z = common.download(\n",
    "     s3  = s3bk\n",
    "    ,src = src\n",
    "    ,ld  = lddk\n",
    "    ,trg = dmp\n",
    ");\n",
    "\n",
    "if not os.path.exists(os.path.join(lddk,dmp)):\n",
    "    raise Exception('failed to download dmp file');\n",
    "    "
   ]
  },
  {
   "cell_type": "code",
   "execution_count": 2,
   "metadata": {},
   "outputs": [
    {
     "name": "stdout",
     "output_type": "stream",
     "text": [
      "database is ready\n"
     ]
    }
   ],
   "source": [
    "cs = \"dbname=%s user=%s password=%s host=%s port=%s\" % (\n",
    "     dbse\n",
    "    ,user\n",
    "    ,pswd\n",
    "    ,host\n",
    "    ,port\n",
    ");\n",
    "\n",
    "try:\n",
    "    conn = psycopg2.connect(cs);\n",
    "except:\n",
    "    raise Exception(\"database connection error\");\n",
    "\n",
    "print(\"database is ready\");"
   ]
  },
  {
   "cell_type": "code",
   "execution_count": null,
   "metadata": {},
   "outputs": [],
   "source": [
    "with closing(conn.cursor()) as cursor:\n",
    "    cursor.execute(\"DROP MATERIALIZED VIEW IF EXISTS cipsrv_nhdplus_h.nhdplusflowlinevaa_catnodes CASCADE\");\n",
    "    cursor.execute(\"DROP MATERIALIZED VIEW IF EXISTS cipsrv_nhdplus_h.nhdplusflowlinevaa_levelpathi CASCADE\");\n",
    "    cursor.execute(\"DROP MATERIALIZED VIEW IF EXISTS cipsrv_nhdplus_h.catchment_3338    CASCADE\");\n",
    "    cursor.execute(\"DROP MATERIALIZED VIEW IF EXISTS cipsrv_nhdplus_h.catchment_5070    CASCADE\");\n",
    "    cursor.execute(\"DROP MATERIALIZED VIEW IF EXISTS cipsrv_nhdplus_h.catchment_26904   CASCADE\");\n",
    "    cursor.execute(\"DROP MATERIALIZED VIEW IF EXISTS cipsrv_nhdplus_h.catchment_32161   CASCADE\");\n",
    "    cursor.execute(\"DROP MATERIALIZED VIEW IF EXISTS cipsrv_nhdplus_h.catchment_32655   CASCADE\");\n",
    "    cursor.execute(\"DROP MATERIALIZED VIEW IF EXISTS cipsrv_nhdplus_h.catchment_32702   CASCADE\");\n",
    "    cursor.execute(\"DROP MATERIALIZED VIEW IF EXISTS cipsrv_nhdplus_h.nhdflowline_3338  CASCADE\");\n",
    "    cursor.execute(\"DROP MATERIALIZED VIEW IF EXISTS cipsrv_nhdplus_h.nhdflowline_5070  CASCADE\");\n",
    "    cursor.execute(\"DROP MATERIALIZED VIEW IF EXISTS cipsrv_nhdplus_h.nhdflowline_26904 CASCADE\");\n",
    "    cursor.execute(\"DROP MATERIALIZED VIEW IF EXISTS cipsrv_nhdplus_h.nhdflowline_32161 CASCADE\");\n",
    "    cursor.execute(\"DROP MATERIALIZED VIEW IF EXISTS cipsrv_nhdplus_h.nhdflowline_32655 CASCADE\");\n",
    "    cursor.execute(\"DROP MATERIALIZED VIEW IF EXISTS cipsrv_nhdplus_h.nhdflowline_32702 CASCADE\");\n",
    "    cursor.execute(\"DROP TABLE IF EXISTS cipsrv_nhdplus_h.catchment_fabric CASCADE\");\n",
    "    cursor.execute(\"DROP TABLE IF EXISTS cipsrv_nhdplus_h.nhdflowline CASCADE\");\n",
    "    cursor.execute(\"DROP TABLE IF EXISTS cipsrv_nhdplus_h.nhdplusflowlinevaa CASCADE\");\n",
    "    cursor.execute(\"DROP TABLE IF EXISTS cipsrv_nhdplus_h.nhdplusflow CASCADE\");\n",
    "    conn.commit();\n",
    "    "
   ]
  },
  {
   "cell_type": "code",
   "execution_count": 7,
   "metadata": {},
   "outputs": [],
   "source": [
    "z = common.pg_restore(\n",
    "     host\n",
    "    ,port\n",
    "    ,dbse\n",
    "    ,user\n",
    "    ,pswd\n",
    "    ,os.path.join(lddk,dmp)\n",
    "    ,thds\n",
    ");\n"
   ]
  },
  {
   "cell_type": "code",
   "execution_count": null,
   "metadata": {},
   "outputs": [],
   "source": [
    "z"
   ]
  }
 ],
 "metadata": {
  "kernelspec": {
   "display_name": "Python 3 (ipykernel)",
   "language": "python",
   "name": "python3"
  },
  "language_info": {
   "codemirror_mode": {
    "name": "ipython",
    "version": 3
   },
   "file_extension": ".py",
   "mimetype": "text/x-python",
   "name": "python",
   "nbconvert_exporter": "python",
   "pygments_lexer": "ipython3",
   "version": "3.10.6"
  }
 },
 "nbformat": 4,
 "nbformat_minor": 4
}
