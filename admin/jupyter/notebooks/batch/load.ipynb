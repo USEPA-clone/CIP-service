{
 "cells": [
  {
   "cell_type": "code",
   "execution_count": null,
   "id": "42ba1646",
   "metadata": {},
   "outputs": [],
   "source": [
    "import os,sys,psycopg2,ipywidgets;\n",
    "from IPython.display import display;\n",
    "from IPython.display import Javascript;\n",
    "from contextlib import closing;\n",
    "\n",
    "sys.path.append(os.path.join(os.path.expanduser('~'),'notebooks'));\n",
    "import common;\n",
    "\n",
    "dbse = os.environ['POSTGRESQL_DB'];\n",
    "host = os.environ['POSTGRESQL_HOST'];\n",
    "port = os.environ['POSTGRESQL_PORT'];\n",
    "user = 'cipsrv_upload';\n",
    "pswd = os.environ['POSTGRESQL_CIP_PASS'];\n",
    "uptrg = os.path.join(os.path.expanduser('~'),'notebooks/upload');\n"
   ]
  },
  {
   "cell_type": "code",
   "execution_count": null,
   "id": "45d90ecf",
   "metadata": {},
   "outputs": [],
   "source": [
    "cs = \"dbname=%s user=%s password=%s host=%s port=%s\" % (\n",
    "     dbse\n",
    "    ,user\n",
    "    ,pswd\n",
    "    ,host\n",
    "    ,port\n",
    ");\n",
    "\n",
    "try:\n",
    "    conn = psycopg2.connect(cs);\n",
    "    conn.set_session(autocommit=True);\n",
    "except:\n",
    "    raise Exception(\"database connection error\");\n",
    "\n",
    "print(\"database is ready\");\n"
   ]
  },
  {
   "cell_type": "code",
   "execution_count": null,
   "id": "26ecf976",
   "metadata": {},
   "outputs": [],
   "source": [
    "upload = ipywidgets.FileUpload(\n",
    "     accept   = '.zip,.gpkg'\n",
    "    ,multiple = False\n",
    ");\n",
    "output2 = ipywidgets.Output();\n",
    "display(upload);\n",
    "\n",
    "def on_value_change(change):\n",
    "    print('name: ' + upload.value[0]['name']);\n",
    "    print('size: ' + str(upload.value[0]['size']));\n",
    "    print('last_modified: ' + str(upload.value[0]['last_modified']));\n",
    "    display(Javascript('IPython.notebook.select_next()'));\n",
    "    display(Javascript('IPython.notebook.focus_cell()'));\n",
    "    \n",
    "upload.observe(on_value_change,names='value');\n"
   ]
  },
  {
   "cell_type": "code",
   "execution_count": null,
   "id": "e19d5079",
   "metadata": {},
   "outputs": [],
   "source": [
    "upfile = upload.value[0];\n",
    "upstem = upfile['name'];\n",
    "upstem = upstem.removesuffix('.zip');\n",
    "upstem = upstem.removesuffix('.gpkg');\n",
    "upstem = upstem.removesuffix(\"_cip\");\n",
    "upext  = upfile['name'][-3:];\n",
    "uploc  = os.path.join(uptrg,upfile['name']);\n",
    "print('stem: ' + upstem);\n",
    "print('upload location: ' + uploc);\n",
    "\n",
    "with open(\n",
    "     uploc\n",
    "    ,'wb'\n",
    ") as output_file: \n",
    "    content = upfile['content'];\n",
    "    output_file.write(content);\n",
    "    "
   ]
  },
  {
   "cell_type": "code",
   "execution_count": null,
   "id": "2b9dc03a",
   "metadata": {},
   "outputs": [],
   "source": [
    "with closing(conn.cursor()) as cursor:\n",
    "    for item in ['_control','_points','_lines','_areas','_cip','_sfid']:\n",
    "        cursor.execute(\"DROP TABLE IF EXISTS cipsrv_upload.\" + upstem + item + \" CASCADE\");\n",
    "    "
   ]
  },
  {
   "cell_type": "code",
   "execution_count": null,
   "id": "5a0a4a1c",
   "metadata": {},
   "outputs": [],
   "source": [
    "if upext == 'zip':\n",
    "    uptrg2 = '/vsizip/' + uptrg;\n",
    "else:\n",
    "    uptrg2 = uptrg;\n",
    "    \n",
    "for item in ['_control','_points','_lines','_areas']:\n",
    "    cmd = '-overwrite -f PostgreSQL '                                                      \\\n",
    "        + 'postgresql://' + user + ':' + pswd + '@' + host + ':' + port + '/' + dbse + ' ' \\\n",
    "        + os.path.join(uptrg2,upfile['name']) + ' ' + upstem + item + ' '                  \\\n",
    "        + '-nln cipsrv_upload.' + upstem + item + ' ';\n",
    "    \n",
    "    if item != '_control':\n",
    "        cmd = cmd                                                                          \\\n",
    "        + '-t_srs EPSG:4269 '                                                              \\\n",
    "        + '-lco GEOMETRY_NAME=shape '                                                      \\\n",
    "        + '-lco GEOM_TYPE=geometry '                                                       \\\n",
    "        + '-lco LAUNDER=YES '                                                              \\\n",
    "        + '-lco DIM=2 '                                                                    \\\n",
    "        + '-lco SPATIAL_INDEX=GIST '                                                       \\\n",
    "        + '-nlt GEOMETRY';\n",
    "\n",
    "    z = common.ogr2ogr(\n",
    "         cmdstring = cmd\n",
    "    );\n",
    "    print(str(z[1]));\n",
    "    "
   ]
  },
  {
   "cell_type": "code",
   "execution_count": null,
   "id": "8b673f28",
   "metadata": {},
   "outputs": [],
   "source": [
    "with closing(conn.cursor()) as cursor:\n",
    "    for item in ['_control','_points','_lines','_areas']:\n",
    "        cursor.execute(\"SELECT COUNT(*) FROM cipsrv_upload.\" + upstem + item + \" \");\n",
    "        result = cursor.fetchone();\n",
    "        print(upstem + item + \": \" + str(result[0]));\n",
    "    "
   ]
  },
  {
   "cell_type": "code",
   "execution_count": null,
   "id": "0dc7c061",
   "metadata": {},
   "outputs": [],
   "source": [
    "conn.close();"
   ]
  },
  {
   "cell_type": "code",
   "execution_count": null,
   "id": "92d70eb8",
   "metadata": {},
   "outputs": [],
   "source": []
  }
 ],
 "metadata": {
  "kernelspec": {
   "display_name": "Python 3 (ipykernel)",
   "language": "python",
   "name": "python3"
  },
  "language_info": {
   "codemirror_mode": {
    "name": "ipython",
    "version": 3
   },
   "file_extension": ".py",
   "mimetype": "text/x-python",
   "name": "python",
   "nbconvert_exporter": "python",
   "pygments_lexer": "ipython3",
   "version": "3.12.3"
  }
 },
 "nbformat": 4,
 "nbformat_minor": 5
}
