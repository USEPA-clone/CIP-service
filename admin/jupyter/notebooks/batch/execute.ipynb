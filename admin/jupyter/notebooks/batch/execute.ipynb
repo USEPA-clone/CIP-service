{
 "cells": [
  {
   "cell_type": "code",
   "execution_count": null,
   "id": "37973064",
   "metadata": {},
   "outputs": [],
   "source": [
    "import os,sys,psycopg2,ipywidgets;\n",
    "from ipywidgets import FileUpload;\n",
    "from IPython.display import display;\n",
    "from contextlib import closing;\n",
    "\n",
    "sys.path.append(os.path.join(os.path.expanduser('~'),'notebooks'));\n",
    "import common;\n",
    "\n",
    "dbse = os.environ['POSTGRESQL_DB'];\n",
    "host = os.environ['POSTGRESQL_HOST'];\n",
    "port = os.environ['POSTGRESQL_PORT'];\n",
    "user = 'cipsrv_upload';\n",
    "pswd = os.environ['POSTGRESQL_CIP_PASS'];\n"
   ]
  },
  {
   "cell_type": "code",
   "execution_count": null,
   "id": "aa138761",
   "metadata": {},
   "outputs": [],
   "source": [
    "cs = \"dbname=%s user=%s password=%s host=%s port=%s\" % (\n",
    "     dbse\n",
    "    ,user\n",
    "    ,pswd\n",
    "    ,host\n",
    "    ,port\n",
    ");\n",
    "\n",
    "try:\n",
    "    conn = psycopg2.connect(cs);\n",
    "    conn.set_session(autocommit=True);\n",
    "except:\n",
    "    raise Exception(\"database connection error\");\n",
    "\n",
    "print(\"database is ready\");\n"
   ]
  },
  {
   "cell_type": "code",
   "execution_count": null,
   "id": "65611d7e",
   "metadata": {},
   "outputs": [],
   "source": [
    "stem = ipywidgets.Text(\n",
    "     value       = None\n",
    "    ,placeholder = 'Enter indexing stem here.'\n",
    "    ,description = 'Stem:'\n",
    "    ,disabled    = False\n",
    "    ,continuous_update=False\n",
    ");\n",
    "display(stem);\n",
    "\n",
    "output = ipywidgets.Output();\n",
    "display(output);\n",
    "\n",
    "@output.capture()\n",
    "def on_value_change(change):\n",
    "    print('stem: ' + stem.value);\n",
    "    \n",
    "stem.observe(on_value_change,names='value');\n"
   ]
  },
  {
   "cell_type": "code",
   "execution_count": null,
   "id": "c6c8b652",
   "metadata": {},
   "outputs": [],
   "source": [
    "upstem = stem.value;\n",
    "with closing(conn.cursor()) as cursor:\n",
    "    for item in ['_control','_points','_lines','_areas']:\n",
    "        cursor.execute(\"SELECT COUNT(*) FROM cipsrv_upload.\" + upstem + item + \" \");\n",
    "        result = cursor.fetchone();\n",
    "        print(upstem + item + \": \" + str(result[0]));\n",
    "    "
   ]
  },
  {
   "cell_type": "code",
   "execution_count": null,
   "id": "88418e9f",
   "metadata": {},
   "outputs": [],
   "source": [
    "%%time\n",
    "\n",
    "with closing(conn.cursor()) as cursor:\n",
    "    cursor.execute(\"\"\"\n",
    "DO $$\n",
    "DECLARE\n",
    "    n INTEGER;\n",
    "    s VARCHAR;\n",
    "BEGIN\n",
    "    CALL cipsrv_engine.cipsrv_batch_index(%(upstem)s,n,s);\n",
    "    RAISE WARNING '%% %%',n,s;\n",
    "END;\n",
    "$$;\n",
    "    \"\"\",{\"upstem\":upstem});\n",
    "    for notice in conn.notices:\n",
    "        print(notice);\n",
    "        "
   ]
  },
  {
   "cell_type": "code",
   "execution_count": null,
   "id": "be68ab80",
   "metadata": {},
   "outputs": [],
   "source": [
    "conn.close();"
   ]
  },
  {
   "cell_type": "code",
   "execution_count": null,
   "id": "0d26eab2",
   "metadata": {},
   "outputs": [],
   "source": []
  }
 ],
 "metadata": {
  "kernelspec": {
   "display_name": "Python 3 (ipykernel)",
   "language": "python",
   "name": "python3"
  },
  "language_info": {
   "codemirror_mode": {
    "name": "ipython",
    "version": 3
   },
   "file_extension": ".py",
   "mimetype": "text/x-python",
   "name": "python",
   "nbconvert_exporter": "python",
   "pygments_lexer": "ipython3",
   "version": "3.12.3"
  }
 },
 "nbformat": 4,
 "nbformat_minor": 5
}
