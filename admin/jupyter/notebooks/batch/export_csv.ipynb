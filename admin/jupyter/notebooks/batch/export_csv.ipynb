{
 "cells": [
  {
   "cell_type": "code",
   "execution_count": null,
   "id": "e191674f",
   "metadata": {},
   "outputs": [],
   "source": [
    "import os,sys,psycopg2,ipywidgets,solara;\n",
    "from IPython.display import display;\n",
    "from IPython.display import FileLink;\n",
    "from contextlib import closing;\n",
    "\n",
    "sys.path.append(os.path.join(os.path.expanduser('~'),'notebooks'));\n",
    "import common;\n",
    "\n",
    "dbse = os.environ['POSTGRESQL_DB'];\n",
    "host = os.environ['POSTGRESQL_HOST'];\n",
    "port = os.environ['POSTGRESQL_PORT'];\n",
    "user = 'cipsrv_upload';\n",
    "pswd = os.environ['POSTGRESQL_CIP_PASS'];\n",
    "uptrg = os.path.join(os.path.expanduser('~'),'notebooks/upload');\n"
   ]
  },
  {
   "cell_type": "code",
   "execution_count": null,
   "id": "c4462b7e",
   "metadata": {},
   "outputs": [],
   "source": [
    "cs = \"dbname=%s user=%s password=%s host=%s port=%s\" % (\n",
    "     dbse\n",
    "    ,user\n",
    "    ,pswd\n",
    "    ,host\n",
    "    ,port\n",
    ");\n",
    "\n",
    "try:\n",
    "    conn = psycopg2.connect(cs);\n",
    "    conn.set_session(autocommit=True);\n",
    "except:\n",
    "    raise Exception(\"database connection error\");\n",
    "\n",
    "print(\"database is ready\");\n"
   ]
  },
  {
   "cell_type": "code",
   "execution_count": null,
   "id": "be0fcffb",
   "metadata": {},
   "outputs": [],
   "source": [
    "stem = ipywidgets.Text(\n",
    "     value       = None\n",
    "    ,placeholder = 'Enter indexing stem here.'\n",
    "    ,description = 'Stem:'\n",
    "    ,disabled    = False\n",
    "    ,continuous_update=False\n",
    ")\n",
    "display(stem);\n",
    "\n",
    "output = ipywidgets.Output();\n",
    "display(output);\n",
    "\n",
    "@output.capture()\n",
    "def on_value_change(change):\n",
    "    print('stem: ' + stem.value);\n",
    "    \n",
    "stem.observe(on_value_change,names='value');\n"
   ]
  },
  {
   "cell_type": "code",
   "execution_count": null,
   "id": "1a409ecd",
   "metadata": {},
   "outputs": [],
   "source": [
    "upstem = stem.value;\n",
    "with closing(conn.cursor()) as cursor:\n",
    "    for item in ['_control','_points','_lines','_areas','_sfid','_cip']:\n",
    "        cursor.execute(\"SELECT COUNT(*) FROM cipsrv_upload.\" + upstem + item + \" \");\n",
    "        result = cursor.fetchone();\n",
    "        print(upstem + item + \": \" + str(result[0]));\n",
    "    "
   ]
  },
  {
   "cell_type": "code",
   "execution_count": null,
   "id": "3d780f90",
   "metadata": {},
   "outputs": [],
   "source": [
    "trgcsv = os.path.join(uptrg,upstem + '_cip.csv');\n",
    "if os.path.exists(trgcsv):\n",
    "    os.remove(trgcsv);\n",
    "\n",
    "cmd = '-overwrite -f CSV ' + trgcsv + ' '                                              \\\n",
    "    + 'postgresql://' + user + ':' + pswd + '@' + host + ':' + port + '/' + dbse + ' ' \\\n",
    "    + '-sql \"SELECT '                                                                  \\\n",
    "    + ' a.catchmentstatecode AS state '                                                \\\n",
    "    + ',a.nhdplusid          AS feature_id '                                           \\\n",
    "    + ',a.source_featureid   AS storigid '                                             \\\n",
    "    + ',a.catchmentareasqkm  AS area_sqkm '                                            \\\n",
    "    + 'FROM cipsrv_upload.' + upstem + '_cip a '                                       \\\n",
    "    + 'ORDER BY '                                                                      \\\n",
    "    + ' a.source_featureid '                                                           \\\n",
    "    + ',a.nhdplusid \" '                                                                \\\n",
    "    + '-lco LINEFORMAT=CRLF ';\n",
    "\n",
    "z = common.ogr2ogr(\n",
    "     cmdstring = cmd\n",
    ");\n",
    "print(str(z[1]));\n"
   ]
  },
  {
   "cell_type": "code",
   "execution_count": null,
   "id": "a0de47a2",
   "metadata": {},
   "outputs": [],
   "source": [
    "import solara;\n",
    "\n",
    "file_object = open(trgcsv,\"rb\");\n",
    "z = solara.FileDownload(data=file_object,filename=os.path.basename(trgcsv));\n",
    "display(z);\n"
   ]
  },
  {
   "cell_type": "code",
   "execution_count": null,
   "id": "9c848451",
   "metadata": {},
   "outputs": [],
   "source": []
  }
 ],
 "metadata": {
  "kernelspec": {
   "display_name": "Python 3 (ipykernel)",
   "language": "python",
   "name": "python3"
  },
  "language_info": {
   "codemirror_mode": {
    "name": "ipython",
    "version": 3
   },
   "file_extension": ".py",
   "mimetype": "text/x-python",
   "name": "python",
   "nbconvert_exporter": "python",
   "pygments_lexer": "ipython3",
   "version": "3.12.3"
  }
 },
 "nbformat": 4,
 "nbformat_minor": 5
}
