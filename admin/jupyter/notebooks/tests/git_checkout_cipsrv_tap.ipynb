{
 "cells": [
  {
   "cell_type": "markdown",
   "id": "40514534-4f46-4ade-9611-4313ac94e1ac",
   "metadata": {},
   "source": [
    "## git_checkout cipsrv_tap"
   ]
  },
  {
   "cell_type": "code",
   "execution_count": null,
   "id": "49fa96f4-0584-49ed-84c6-103809d6bc50",
   "metadata": {},
   "outputs": [],
   "source": [
    "import os,sys,git,tempfile,psycopg2;\n",
    "from ipywidgets import IntProgress,HTML,VBox;\n",
    "from IPython.display import display;\n",
    "\n",
    "sys.path.append(os.path.join(os.path.expanduser('~'),'notebooks'));\n",
    "import common;\n",
    "\n",
    "gith = os.environ['GITHUB_REPO_URL'];\n",
    "# override: \"git@github.com:USEPA/CIPv2.git\"\n",
    "brnh = os.environ['GITHUB_DEFAULT_BRANCH'];\n",
    "# override: \"mybranch\"\n",
    "\n",
    "dbse = os.environ['POSTGRESQL_DB'];\n",
    "host = os.environ['POSTGRESQL_HOST'];\n",
    "port = os.environ['POSTGRESQL_PORT'];\n",
    "user = 'cipsrv_pgrest';\n",
    "pasw = os.environ['POSTGRESQL_CIP_PASS'];\n",
    "\n",
    "depf = os.path.join('tests','database','cipsrv_tap','cipsrv_tap_deploy.sql');\n",
    "\n",
    "print(\"repo: \" + gith);\n",
    "print(\"branch: \" + brnh);"
   ]
  },
  {
   "cell_type": "code",
   "execution_count": null,
   "id": "e218ab93-36f0-45df-9c4f-5e5aa382c521",
   "metadata": {},
   "outputs": [],
   "source": [
    "cs = \"dbname=%s user=%s password=%s host=%s port=%s\" % (\n",
    "     dbse\n",
    "    ,user\n",
    "    ,pasw\n",
    "    ,host\n",
    "    ,port\n",
    ");\n",
    "\n",
    "try:\n",
    "    conn = psycopg2.connect(cs);\n",
    "except:\n",
    "    raise Exception(\"database connection error\");\n",
    "    \n",
    "print(\"database is ready\");cs = \"dbname=%s user=%s password=%s host=%s port=%s\" % (\n",
    "     dbse\n",
    "    ,user\n",
    "    ,pasw\n",
    "    ,host\n",
    "    ,port\n",
    ");\n",
    "\n",
    "try:\n",
    "    conn = psycopg2.connect(cs);\n",
    "except:\n",
    "    raise Exception(\"database connection error\");\n",
    "    \n",
    "print(\"database is ready\");"
   ]
  },
  {
   "cell_type": "code",
   "execution_count": null,
   "id": "fdc164ff-98f1-4bf3-8f73-b9b26f838a41",
   "metadata": {},
   "outputs": [],
   "source": [
    "td = tempfile.TemporaryDirectory();\n",
    "\n",
    "repo = git.Repo.clone_from(\n",
    "     url     = gith\n",
    "    ,branch  = brnh\n",
    "    ,to_path = td.name \n",
    "    ,depth   = 1\n",
    ");\n",
    "\n",
    "print(\"checkout complete.\");"
   ]
  },
  {
   "cell_type": "code",
   "execution_count": null,
   "id": "ee8a6c58-3fd0-4d8d-a08d-82b3126bc30b",
   "metadata": {},
   "outputs": [],
   "source": [
    "trg = os.path.join(td.name,depf);\n",
    "\n",
    "if not os.path.exists(trg):\n",
    "    raise Exception(trg + ' file not found.');\n",
    "    \n",
    "z = common.load_sqlfile(conn,trg,echo=True);\n"
   ]
  },
  {
   "cell_type": "code",
   "execution_count": null,
   "id": "6bfa3937-a289-4ba9-862d-34b6b230ff98",
   "metadata": {},
   "outputs": [],
   "source": [
    "conn.close();\n",
    "td.cleanup();\n",
    "\n",
    "print(\"logic load complete.\");"
   ]
  }
 ],
 "metadata": {
  "kernelspec": {
   "display_name": "Python 3 (ipykernel)",
   "language": "python",
   "name": "python3"
  },
  "language_info": {
   "codemirror_mode": {
    "name": "ipython",
    "version": 3
   },
   "file_extension": ".py",
   "mimetype": "text/x-python",
   "name": "python",
   "nbconvert_exporter": "python",
   "pygments_lexer": "ipython3",
   "version": "3.12.3"
  }
 },
 "nbformat": 4,
 "nbformat_minor": 5
}
