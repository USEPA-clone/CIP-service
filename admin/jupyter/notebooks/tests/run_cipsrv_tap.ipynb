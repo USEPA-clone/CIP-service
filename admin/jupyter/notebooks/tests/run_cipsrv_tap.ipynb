{
 "cells": [
  {
   "cell_type": "code",
   "execution_count": null,
   "id": "2b2446b7-6d63-4552-b33f-afda07adc96e",
   "metadata": {},
   "outputs": [],
   "source": [
    "import psycopg2,os,sys;\n",
    "from contextlib import closing;\n",
    "\n",
    "dbse = os.environ['POSTGRESQL_DB'];\n",
    "host = os.environ['POSTGRESQL_HOST'];\n",
    "port = os.environ['POSTGRESQL_PORT'];\n",
    "user = 'cipsrv';\n",
    "pasw = os.environ['POSTGRESQL_CIP_PASS'];\n"
   ]
  },
  {
   "cell_type": "code",
   "execution_count": null,
   "id": "25a59346-5b72-4d6a-a1f1-64f2bcec5d4a",
   "metadata": {},
   "outputs": [],
   "source": [
    "cs = \"dbname=%s user=%s password=%s host=%s port=%s\" % (\n",
    "     dbse\n",
    "    ,user\n",
    "    ,pasw\n",
    "    ,host\n",
    "    ,port\n",
    ");\n",
    "\n",
    "try:\n",
    "    conn = psycopg2.connect(cs);\n",
    "except:\n",
    "    raise Exception(\"database connection error\");\n",
    "\n",
    "print(\"database is ready\");    "
   ]
  },
  {
   "cell_type": "code",
   "execution_count": null,
   "id": "7efe8ab0-b32c-4e72-8743-c8d7f7fedbaa",
   "metadata": {},
   "outputs": [],
   "source": [
    "with closing(conn.cursor()) as cursor:\n",
    "    cursor.execute(\"SELECT * FROM tap.runtests('cipsrv_tap','.*')\");\n",
    "    for row in cursor:\n",
    "        print(str(row[0]));\n",
    "        "
   ]
  },
  {
   "cell_type": "code",
   "execution_count": null,
   "id": "8c2068e3-4d53-42bf-940d-8a11da2c24cf",
   "metadata": {},
   "outputs": [],
   "source": []
  },
  {
   "cell_type": "code",
   "execution_count": null,
   "id": "38a13cdc-fd1d-45f5-9812-a27cdbbbd343",
   "metadata": {},
   "outputs": [],
   "source": []
  }
 ],
 "metadata": {
  "kernelspec": {
   "display_name": "Python 3 (ipykernel)",
   "language": "python",
   "name": "python3"
  },
  "language_info": {
   "codemirror_mode": {
    "name": "ipython",
    "version": 3
   },
   "file_extension": ".py",
   "mimetype": "text/x-python",
   "name": "python",
   "nbconvert_exporter": "python",
   "pygments_lexer": "ipython3",
   "version": "3.12.3"
  }
 },
 "nbformat": 4,
 "nbformat_minor": 5
}
