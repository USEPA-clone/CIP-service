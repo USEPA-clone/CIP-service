{
 "cells": [
  {
   "cell_type": "markdown",
   "metadata": {},
   "source": [
    "## git_checkout cipsrv_nhdplus_m"
   ]
  },
  {
   "cell_type": "code",
   "execution_count": 3,
   "metadata": {},
   "outputs": [
    {
     "name": "stdout",
     "output_type": "stream",
     "text": [
      "repo: https://git@github.com/USEPA/CIP-service.git\n",
      "branch: main\n"
     ]
    }
   ],
   "source": [
    "import os,sys,git,tempfile,psycopg2;\n",
    "from ipywidgets import IntProgress,HTML,VBox;\n",
    "from IPython.display import display;\n",
    "\n",
    "sys.path.append(os.path.join(os.path.expanduser('~'),'notebooks'));\n",
    "import common;\n",
    "\n",
    "gith = os.environ['GITHUB_REPO_URL'];\n",
    "# override: \"git@github.com:USEPA/CIPv2.git\"\n",
    "brnh = os.environ['GITHUB_DEFAULT_BRANCH'];\n",
    "# override: \"mybranch\"\n",
    "\n",
    "dbse = os.environ['POSTGRESQL_DB'];\n",
    "host = os.environ['POSTGRESQL_HOST'];\n",
    "port = os.environ['POSTGRESQL_PORT'];\n",
    "user = 'cipsrv';\n",
    "pasw = os.environ['POSTGRESQL_CIP_PASS'];\n",
    "\n",
    "depf = os.path.join('src','database','cipsrv_nhdplus_m','cipsrv_nhdplus_m_deploy.sql');\n",
    "\n",
    "print(\"repo: \" + gith);\n",
    "print(\"branch: \" + brnh);"
   ]
  },
  {
   "cell_type": "code",
   "execution_count": 4,
   "metadata": {},
   "outputs": [
    {
     "name": "stdout",
     "output_type": "stream",
     "text": [
      "database is ready\n"
     ]
    }
   ],
   "source": [
    "cs = \"dbname=%s user=%s password=%s host=%s port=%s\" % (\n",
    "     dbse\n",
    "    ,user\n",
    "    ,pasw\n",
    "    ,host\n",
    "    ,port\n",
    ");\n",
    "\n",
    "try:\n",
    "    conn = psycopg2.connect(cs);\n",
    "except:\n",
    "    raise Exception(\"database connection error\");\n",
    "\n",
    "print(\"database is ready\");"
   ]
  },
  {
   "cell_type": "code",
   "execution_count": 5,
   "metadata": {},
   "outputs": [],
   "source": [
    "td = tempfile.TemporaryDirectory();\n",
    "\n",
    "repo = git.Repo.clone_from(\n",
    "     url     = gith\n",
    "    ,branch  = brnh\n",
    "    ,to_path = td.name \n",
    "    ,depth   = 1\n",
    ");\n"
   ]
  },
  {
   "cell_type": "code",
   "execution_count": 6,
   "metadata": {},
   "outputs": [
    {
     "name": "stdout",
     "output_type": "stream",
     "text": [
      "DROP MATERIALIZED VIEW\n",
      "SELECT 2670894\n",
      "ALTER TABLE\n",
      "GRANT\n",
      "CREATE INDEX\n",
      "CREATE INDEX\n",
      "CREATE INDEX\n",
      "CREATE INDEX\n",
      "CREATE INDEX\n",
      "CREATE INDEX\n",
      "DROP MATERIALIZED VIEW\n",
      "SELECT 1024801\n",
      "ALTER TABLE\n",
      "GRANT\n",
      "CREATE INDEX\n",
      "CREATE INDEX\n",
      "CREATE INDEX\n",
      "CREATE INDEX\n",
      "DROP MATERIALIZED VIEW\n",
      "SELECT 2517706\n",
      "ALTER TABLE\n",
      "GRANT\n",
      "CREATE INDEX\n",
      "CREATE INDEX\n",
      "CREATE INDEX\n",
      "CREATE INDEX\n",
      "CREATE INDEX\n",
      "DROP MATERIALIZED VIEW\n",
      "SELECT 2795737\n",
      "ALTER TABLE\n",
      "GRANT\n",
      "CREATE INDEX\n",
      "CREATE INDEX\n",
      "CREATE INDEX\n",
      "CREATE INDEX\n",
      "CREATE INDEX\n",
      "DROP MATERIALIZED VIEW\n",
      "SELECT 20544\n",
      "ALTER TABLE\n",
      "GRANT\n",
      "CREATE INDEX\n",
      "CREATE INDEX\n",
      "CREATE INDEX\n",
      "CREATE INDEX\n",
      "CREATE INDEX\n",
      "DROP MATERIALIZED VIEW\n",
      "SELECT 18922\n",
      "ALTER TABLE\n",
      "GRANT\n",
      "CREATE INDEX\n",
      "CREATE INDEX\n",
      "CREATE INDEX\n",
      "CREATE INDEX\n",
      "CREATE INDEX\n",
      "DROP MATERIALIZED VIEW\n",
      "SELECT 2438\n",
      "ALTER TABLE\n",
      "GRANT\n",
      "CREATE INDEX\n",
      "CREATE INDEX\n",
      "CREATE INDEX\n",
      "CREATE INDEX\n",
      "CREATE INDEX\n",
      "DROP MATERIALIZED VIEW\n",
      "SELECT 1966\n",
      "ALTER TABLE\n",
      "GRANT\n",
      "CREATE INDEX\n",
      "CREATE INDEX\n",
      "CREATE INDEX\n",
      "CREATE INDEX\n",
      "CREATE INDEX\n",
      "ANALYZE\n",
      "CREATE FUNCTION\n",
      "ALTER FUNCTION\n",
      "GRANT\n",
      "CREATE FUNCTION\n",
      "ALTER FUNCTION\n",
      "GRANT\n",
      "CREATE FUNCTION\n",
      "ALTER FUNCTION\n",
      "GRANT\n",
      "CREATE FUNCTION\n",
      "ALTER FUNCTION\n",
      "GRANT\n",
      "CREATE FUNCTION\n",
      "ALTER FUNCTION\n",
      "GRANT\n",
      "CREATE FUNCTION\n",
      "ALTER FUNCTION\n",
      "GRANT\n",
      "CREATE FUNCTION\n",
      "ALTER FUNCTION\n",
      "GRANT\n",
      "CREATE FUNCTION\n",
      "ALTER FUNCTION\n",
      "GRANT\n",
      "CREATE FUNCTION\n",
      "ALTER FUNCTION\n",
      "GRANT\n",
      "CREATE FUNCTION\n",
      "ALTER FUNCTION\n",
      "GRANT\n",
      "CREATE FUNCTION\n",
      "ALTER FUNCTION\n"
     ]
    }
   ],
   "source": [
    "trg = os.path.join(td.name,depf);\n",
    "\n",
    "if not os.path.exists(trg):\n",
    "    raise Exception(trg + ' file not found.');\n",
    "    \n",
    "z = common.load_sqlfile(conn,trg,echo=True);\n"
   ]
  },
  {
   "cell_type": "code",
   "execution_count": 7,
   "metadata": {},
   "outputs": [],
   "source": [
    "conn.close();\n",
    "td.cleanup();\n"
   ]
  },
  {
   "cell_type": "code",
   "execution_count": null,
   "metadata": {},
   "outputs": [],
   "source": []
  }
 ],
 "metadata": {
  "kernelspec": {
   "display_name": "Python 3 (ipykernel)",
   "language": "python",
   "name": "python3"
  },
  "language_info": {
   "codemirror_mode": {
    "name": "ipython",
    "version": 3
   },
   "file_extension": ".py",
   "mimetype": "text/x-python",
   "name": "python",
   "nbconvert_exporter": "python",
   "pygments_lexer": "ipython3",
   "version": "3.10.6"
  }
 },
 "nbformat": 4,
 "nbformat_minor": 4
}
