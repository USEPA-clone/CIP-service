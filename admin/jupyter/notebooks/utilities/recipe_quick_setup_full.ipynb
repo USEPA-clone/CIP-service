{
 "cells": [
  {
   "cell_type": "markdown",
   "metadata": {},
   "source": [
    "### Quick Setup - FULL\n",
    "\n",
    "This recipe will load both the high and medium resolution NHDPlus datasets.  Note downlowning, staging and loading high resolution data will require significant disk requirements.  Having a solid 500 GB available is advised."
   ]
  },
  {
   "cell_type": "code",
   "execution_count": 2,
   "metadata": {},
   "outputs": [],
   "source": [
    "%run ./\"pg_restore cipsrv_support\".ipynb"
   ]
  },
  {
   "cell_type": "code",
   "execution_count": null,
   "metadata": {},
   "outputs": [],
   "source": [
    "%run ./\"pg_restore cipsrv_m_nhdplus\".ipynb"
   ]
  },
  {
   "cell_type": "code",
   "execution_count": null,
   "metadata": {},
   "outputs": [],
   "source": [
    "%run ./\"pg_restore cipsrv_h_nhdplus\".ipynb"
   ]
  },
  {
   "cell_type": "code",
   "execution_count": 3,
   "metadata": {},
   "outputs": [
    {
     "name": "stdout",
     "output_type": "stream",
     "text": [
      "repo: git@github.com:Eastern-Research-Group/EPA-OW-CIP20.git\n",
      "branch: main\n",
      "database is ready\n",
      "CREATE FUNCTION\n",
      "ALTER FUNCTION\n",
      "GRANT\n",
      "CREATE FUNCTION\n",
      "ALTER FUNCTION\n",
      "GRANT\n",
      "CREATE FUNCTION\n",
      "ALTER FUNCTION\n",
      "GRANT\n",
      "CREATE FUNCTION\n",
      "ALTER FUNCTION\n"
     ]
    }
   ],
   "source": [
    "%run ./\"git_checkout cipsrv_support\".ipynb"
   ]
  },
  {
   "cell_type": "code",
   "execution_count": null,
   "metadata": {},
   "outputs": [],
   "source": [
    "%run ./\"git_checkout cipsrv_nhdplus_m\".ipynb"
   ]
  },
  {
   "cell_type": "code",
   "execution_count": null,
   "metadata": {},
   "outputs": [],
   "source": [
    "%run ./\"git_checkout cipsrv_nhdplus_h\".ipynb"
   ]
  },
  {
   "cell_type": "code",
   "execution_count": null,
   "metadata": {},
   "outputs": [],
   "source": [
    "%run ./\"git_checkout cipsrv_engine\".ipynb"
   ]
  },
  {
   "cell_type": "code",
   "execution_count": null,
   "metadata": {},
   "outputs": [],
   "source": [
    "%run ./\"git_checkout cipsrv_pgrest\".ipynb"
   ]
  }
 ],
 "metadata": {
  "kernelspec": {
   "display_name": "Python 3",
   "language": "python",
   "name": "python3"
  },
  "language_info": {
   "codemirror_mode": {
    "name": "ipython",
    "version": 3
   },
   "file_extension": ".py",
   "mimetype": "text/x-python",
   "name": "python",
   "nbconvert_exporter": "python",
   "pygments_lexer": "ipython3",
   "version": "3.8.10"
  }
 },
 "nbformat": 4,
 "nbformat_minor": 4
}
